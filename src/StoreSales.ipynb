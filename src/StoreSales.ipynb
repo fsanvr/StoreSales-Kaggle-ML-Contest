{
  "nbformat": 4,
  "nbformat_minor": 0,
  "metadata": {
    "colab": {
      "provenance": [],
      "collapsed_sections": [
        "0xdkvTHjt4ca",
        "Ry5hFQNwt9JF",
        "MJhPywl0t-vg",
        "X0EfIgIvybu-",
        "eCFZ7unSuBVH",
        "ddUwIivOuCpq"
      ]
    },
    "kernelspec": {
      "name": "python3",
      "display_name": "Python 3"
    },
    "language_info": {
      "name": "python"
    }
  },
  "cells": [
    {
      "cell_type": "markdown",
      "source": [
        "[Ссылка на контест Kaggle](https://www.kaggle.com/competitions/store-sales-time-series-forecasting)\n",
        "\n",
        "Задача: (регрессия) предсказание продаж товаров (в соответствующих товару единицах) в течение 15 дней по историческим данных о продажах.\n",
        "Данные: исторические данные о продажах тоавров в сети супермаркетов в Эквадоре."
      ],
      "metadata": {
        "id": "b2LzgsJ9eSUg"
      }
    },
    {
      "cell_type": "markdown",
      "source": [
        "# Подключения"
      ],
      "metadata": {
        "id": "0xdkvTHjt4ca"
      }
    },
    {
      "cell_type": "code",
      "source": [
        "!pip install optuna"
      ],
      "metadata": {
        "colab": {
          "base_uri": "https://localhost:8080/"
        },
        "id": "bZPmG9D1T3kK",
        "outputId": "054ab5c2-b5df-42ab-a2fa-fb68372aa866"
      },
      "execution_count": null,
      "outputs": [
        {
          "output_type": "stream",
          "name": "stdout",
          "text": [
            "Requirement already satisfied: optuna in /usr/local/lib/python3.10/dist-packages (4.1.0)\n",
            "Requirement already satisfied: alembic>=1.5.0 in /usr/local/lib/python3.10/dist-packages (from optuna) (1.14.0)\n",
            "Requirement already satisfied: colorlog in /usr/local/lib/python3.10/dist-packages (from optuna) (6.9.0)\n",
            "Requirement already satisfied: numpy in /usr/local/lib/python3.10/dist-packages (from optuna) (1.26.4)\n",
            "Requirement already satisfied: packaging>=20.0 in /usr/local/lib/python3.10/dist-packages (from optuna) (24.2)\n",
            "Requirement already satisfied: sqlalchemy>=1.4.2 in /usr/local/lib/python3.10/dist-packages (from optuna) (2.0.36)\n",
            "Requirement already satisfied: tqdm in /usr/local/lib/python3.10/dist-packages (from optuna) (4.66.6)\n",
            "Requirement already satisfied: PyYAML in /usr/local/lib/python3.10/dist-packages (from optuna) (6.0.2)\n",
            "Requirement already satisfied: Mako in /usr/local/lib/python3.10/dist-packages (from alembic>=1.5.0->optuna) (1.3.7)\n",
            "Requirement already satisfied: typing-extensions>=4 in /usr/local/lib/python3.10/dist-packages (from alembic>=1.5.0->optuna) (4.12.2)\n",
            "Requirement already satisfied: greenlet!=0.4.17 in /usr/local/lib/python3.10/dist-packages (from sqlalchemy>=1.4.2->optuna) (3.1.1)\n",
            "Requirement already satisfied: MarkupSafe>=0.9.2 in /usr/local/lib/python3.10/dist-packages (from Mako->alembic>=1.5.0->optuna) (3.0.2)\n"
          ]
        }
      ]
    },
    {
      "cell_type": "code",
      "source": [
        "from datetime import timedelta\n",
        "from tqdm import tqdm\n",
        "\n",
        "import numpy as np\n",
        "import pandas as pd\n",
        "\n",
        "import matplotlib.pyplot as plt\n",
        "import seaborn as sns\n",
        "\n",
        "from sklearn.model_selection import train_test_split\n",
        "from sklearn.metrics import mean_squared_log_error, root_mean_squared_error\n",
        "from sklearn.preprocessing import OrdinalEncoder\n",
        "\n",
        "from statsmodels.tsa.arima.model import ARIMA\n",
        "import optuna\n",
        "\n",
        "import yfinance as yf"
      ],
      "metadata": {
        "id": "hvVpixaCt82W"
      },
      "execution_count": null,
      "outputs": []
    },
    {
      "cell_type": "markdown",
      "source": [
        "# Загрузка данных"
      ],
      "metadata": {
        "id": "Ry5hFQNwt9JF"
      }
    },
    {
      "cell_type": "code",
      "source": [
        "data_root = '/content/drive/MyDrive/Colab Notebooks/data/StoreSales/'"
      ],
      "metadata": {
        "id": "Ysa-7hhAuD_q"
      },
      "execution_count": null,
      "outputs": []
    },
    {
      "cell_type": "code",
      "source": [
        "train_data = pd.read_csv(data_root + 'train.csv')\n",
        "test_data = pd.read_csv(data_root + 'test.csv')\n",
        "\n",
        "transactions = pd.read_csv(data_root + 'transactions.csv')\n",
        "stores = pd.read_csv(data_root + 'stores.csv')\n",
        "\n",
        "oil = pd.read_csv(data_root + 'oil.csv', parse_dates=['date'])\n",
        "holidays_events = pd.read_csv(data_root + 'holidays_events.csv')\n",
        "\n",
        "sample_submission = pd.read_csv(data_root + 'sample_submission.csv')"
      ],
      "metadata": {
        "id": "DPfJS2DsuyWt"
      },
      "execution_count": null,
      "outputs": []
    },
    {
      "cell_type": "markdown",
      "source": [
        "# Предобработка данных"
      ],
      "metadata": {
        "id": "MJhPywl0t-vg"
      }
    },
    {
      "cell_type": "markdown",
      "source": [
        "В трейне хранятся данные о продажах товаров по категориям.\n",
        " - date - дата\n",
        " - store_nbr - номер точки продаж\n",
        " - family - категория товаров\n",
        " - sales - сумма продаж ($, целевая переменная)\n",
        " - onpromotion - кол-во продаж (штук или кг)"
      ],
      "metadata": {
        "id": "V8L2JEURfDkb"
      }
    },
    {
      "cell_type": "code",
      "source": [
        "train_data.head()"
      ],
      "metadata": {
        "colab": {
          "base_uri": "https://localhost:8080/"
        },
        "id": "PhUFaEmZuEOk",
        "outputId": "f2c0ead1-b909-420b-8a90-00572c0d8d51"
      },
      "execution_count": null,
      "outputs": [
        {
          "output_type": "execute_result",
          "data": {
            "text/plain": [
              "   id        date  store_nbr      family  sales  onpromotion\n",
              "0   0  2013-01-01          1  AUTOMOTIVE    0.0            0\n",
              "1   1  2013-01-01          1   BABY CARE    0.0            0\n",
              "2   2  2013-01-01          1      BEAUTY    0.0            0\n",
              "3   3  2013-01-01          1   BEVERAGES    0.0            0\n",
              "4   4  2013-01-01          1       BOOKS    0.0            0"
            ],
            "text/html": [
              "\n",
              "  <div id=\"df-e062f485-8667-407c-b894-68434df7587c\" class=\"colab-df-container\">\n",
              "    <div>\n",
              "<style scoped>\n",
              "    .dataframe tbody tr th:only-of-type {\n",
              "        vertical-align: middle;\n",
              "    }\n",
              "\n",
              "    .dataframe tbody tr th {\n",
              "        vertical-align: top;\n",
              "    }\n",
              "\n",
              "    .dataframe thead th {\n",
              "        text-align: right;\n",
              "    }\n",
              "</style>\n",
              "<table border=\"1\" class=\"dataframe\">\n",
              "  <thead>\n",
              "    <tr style=\"text-align: right;\">\n",
              "      <th></th>\n",
              "      <th>id</th>\n",
              "      <th>date</th>\n",
              "      <th>store_nbr</th>\n",
              "      <th>family</th>\n",
              "      <th>sales</th>\n",
              "      <th>onpromotion</th>\n",
              "    </tr>\n",
              "  </thead>\n",
              "  <tbody>\n",
              "    <tr>\n",
              "      <th>0</th>\n",
              "      <td>0</td>\n",
              "      <td>2013-01-01</td>\n",
              "      <td>1</td>\n",
              "      <td>AUTOMOTIVE</td>\n",
              "      <td>0.0</td>\n",
              "      <td>0</td>\n",
              "    </tr>\n",
              "    <tr>\n",
              "      <th>1</th>\n",
              "      <td>1</td>\n",
              "      <td>2013-01-01</td>\n",
              "      <td>1</td>\n",
              "      <td>BABY CARE</td>\n",
              "      <td>0.0</td>\n",
              "      <td>0</td>\n",
              "    </tr>\n",
              "    <tr>\n",
              "      <th>2</th>\n",
              "      <td>2</td>\n",
              "      <td>2013-01-01</td>\n",
              "      <td>1</td>\n",
              "      <td>BEAUTY</td>\n",
              "      <td>0.0</td>\n",
              "      <td>0</td>\n",
              "    </tr>\n",
              "    <tr>\n",
              "      <th>3</th>\n",
              "      <td>3</td>\n",
              "      <td>2013-01-01</td>\n",
              "      <td>1</td>\n",
              "      <td>BEVERAGES</td>\n",
              "      <td>0.0</td>\n",
              "      <td>0</td>\n",
              "    </tr>\n",
              "    <tr>\n",
              "      <th>4</th>\n",
              "      <td>4</td>\n",
              "      <td>2013-01-01</td>\n",
              "      <td>1</td>\n",
              "      <td>BOOKS</td>\n",
              "      <td>0.0</td>\n",
              "      <td>0</td>\n",
              "    </tr>\n",
              "  </tbody>\n",
              "</table>\n",
              "</div>\n",
              "    <div class=\"colab-df-buttons\">\n",
              "\n",
              "  <div class=\"colab-df-container\">\n",
              "    <button class=\"colab-df-convert\" onclick=\"convertToInteractive('df-e062f485-8667-407c-b894-68434df7587c')\"\n",
              "            title=\"Convert this dataframe to an interactive table.\"\n",
              "            style=\"display:none;\">\n",
              "\n",
              "  <svg xmlns=\"http://www.w3.org/2000/svg\" height=\"24px\" viewBox=\"0 -960 960 960\">\n",
              "    <path d=\"M120-120v-720h720v720H120Zm60-500h600v-160H180v160Zm220 220h160v-160H400v160Zm0 220h160v-160H400v160ZM180-400h160v-160H180v160Zm440 0h160v-160H620v160ZM180-180h160v-160H180v160Zm440 0h160v-160H620v160Z\"/>\n",
              "  </svg>\n",
              "    </button>\n",
              "\n",
              "  <style>\n",
              "    .colab-df-container {\n",
              "      display:flex;\n",
              "      gap: 12px;\n",
              "    }\n",
              "\n",
              "    .colab-df-convert {\n",
              "      background-color: #E8F0FE;\n",
              "      border: none;\n",
              "      border-radius: 50%;\n",
              "      cursor: pointer;\n",
              "      display: none;\n",
              "      fill: #1967D2;\n",
              "      height: 32px;\n",
              "      padding: 0 0 0 0;\n",
              "      width: 32px;\n",
              "    }\n",
              "\n",
              "    .colab-df-convert:hover {\n",
              "      background-color: #E2EBFA;\n",
              "      box-shadow: 0px 1px 2px rgba(60, 64, 67, 0.3), 0px 1px 3px 1px rgba(60, 64, 67, 0.15);\n",
              "      fill: #174EA6;\n",
              "    }\n",
              "\n",
              "    .colab-df-buttons div {\n",
              "      margin-bottom: 4px;\n",
              "    }\n",
              "\n",
              "    [theme=dark] .colab-df-convert {\n",
              "      background-color: #3B4455;\n",
              "      fill: #D2E3FC;\n",
              "    }\n",
              "\n",
              "    [theme=dark] .colab-df-convert:hover {\n",
              "      background-color: #434B5C;\n",
              "      box-shadow: 0px 1px 3px 1px rgba(0, 0, 0, 0.15);\n",
              "      filter: drop-shadow(0px 1px 2px rgba(0, 0, 0, 0.3));\n",
              "      fill: #FFFFFF;\n",
              "    }\n",
              "  </style>\n",
              "\n",
              "    <script>\n",
              "      const buttonEl =\n",
              "        document.querySelector('#df-e062f485-8667-407c-b894-68434df7587c button.colab-df-convert');\n",
              "      buttonEl.style.display =\n",
              "        google.colab.kernel.accessAllowed ? 'block' : 'none';\n",
              "\n",
              "      async function convertToInteractive(key) {\n",
              "        const element = document.querySelector('#df-e062f485-8667-407c-b894-68434df7587c');\n",
              "        const dataTable =\n",
              "          await google.colab.kernel.invokeFunction('convertToInteractive',\n",
              "                                                    [key], {});\n",
              "        if (!dataTable) return;\n",
              "\n",
              "        const docLinkHtml = 'Like what you see? Visit the ' +\n",
              "          '<a target=\"_blank\" href=https://colab.research.google.com/notebooks/data_table.ipynb>data table notebook</a>'\n",
              "          + ' to learn more about interactive tables.';\n",
              "        element.innerHTML = '';\n",
              "        dataTable['output_type'] = 'display_data';\n",
              "        await google.colab.output.renderOutput(dataTable, element);\n",
              "        const docLink = document.createElement('div');\n",
              "        docLink.innerHTML = docLinkHtml;\n",
              "        element.appendChild(docLink);\n",
              "      }\n",
              "    </script>\n",
              "  </div>\n",
              "\n",
              "\n",
              "<div id=\"df-70c1d5a3-2876-42f2-857b-930794151f0e\">\n",
              "  <button class=\"colab-df-quickchart\" onclick=\"quickchart('df-70c1d5a3-2876-42f2-857b-930794151f0e')\"\n",
              "            title=\"Suggest charts\"\n",
              "            style=\"display:none;\">\n",
              "\n",
              "<svg xmlns=\"http://www.w3.org/2000/svg\" height=\"24px\"viewBox=\"0 0 24 24\"\n",
              "     width=\"24px\">\n",
              "    <g>\n",
              "        <path d=\"M19 3H5c-1.1 0-2 .9-2 2v14c0 1.1.9 2 2 2h14c1.1 0 2-.9 2-2V5c0-1.1-.9-2-2-2zM9 17H7v-7h2v7zm4 0h-2V7h2v10zm4 0h-2v-4h2v4z\"/>\n",
              "    </g>\n",
              "</svg>\n",
              "  </button>\n",
              "\n",
              "<style>\n",
              "  .colab-df-quickchart {\n",
              "      --bg-color: #E8F0FE;\n",
              "      --fill-color: #1967D2;\n",
              "      --hover-bg-color: #E2EBFA;\n",
              "      --hover-fill-color: #174EA6;\n",
              "      --disabled-fill-color: #AAA;\n",
              "      --disabled-bg-color: #DDD;\n",
              "  }\n",
              "\n",
              "  [theme=dark] .colab-df-quickchart {\n",
              "      --bg-color: #3B4455;\n",
              "      --fill-color: #D2E3FC;\n",
              "      --hover-bg-color: #434B5C;\n",
              "      --hover-fill-color: #FFFFFF;\n",
              "      --disabled-bg-color: #3B4455;\n",
              "      --disabled-fill-color: #666;\n",
              "  }\n",
              "\n",
              "  .colab-df-quickchart {\n",
              "    background-color: var(--bg-color);\n",
              "    border: none;\n",
              "    border-radius: 50%;\n",
              "    cursor: pointer;\n",
              "    display: none;\n",
              "    fill: var(--fill-color);\n",
              "    height: 32px;\n",
              "    padding: 0;\n",
              "    width: 32px;\n",
              "  }\n",
              "\n",
              "  .colab-df-quickchart:hover {\n",
              "    background-color: var(--hover-bg-color);\n",
              "    box-shadow: 0 1px 2px rgba(60, 64, 67, 0.3), 0 1px 3px 1px rgba(60, 64, 67, 0.15);\n",
              "    fill: var(--button-hover-fill-color);\n",
              "  }\n",
              "\n",
              "  .colab-df-quickchart-complete:disabled,\n",
              "  .colab-df-quickchart-complete:disabled:hover {\n",
              "    background-color: var(--disabled-bg-color);\n",
              "    fill: var(--disabled-fill-color);\n",
              "    box-shadow: none;\n",
              "  }\n",
              "\n",
              "  .colab-df-spinner {\n",
              "    border: 2px solid var(--fill-color);\n",
              "    border-color: transparent;\n",
              "    border-bottom-color: var(--fill-color);\n",
              "    animation:\n",
              "      spin 1s steps(1) infinite;\n",
              "  }\n",
              "\n",
              "  @keyframes spin {\n",
              "    0% {\n",
              "      border-color: transparent;\n",
              "      border-bottom-color: var(--fill-color);\n",
              "      border-left-color: var(--fill-color);\n",
              "    }\n",
              "    20% {\n",
              "      border-color: transparent;\n",
              "      border-left-color: var(--fill-color);\n",
              "      border-top-color: var(--fill-color);\n",
              "    }\n",
              "    30% {\n",
              "      border-color: transparent;\n",
              "      border-left-color: var(--fill-color);\n",
              "      border-top-color: var(--fill-color);\n",
              "      border-right-color: var(--fill-color);\n",
              "    }\n",
              "    40% {\n",
              "      border-color: transparent;\n",
              "      border-right-color: var(--fill-color);\n",
              "      border-top-color: var(--fill-color);\n",
              "    }\n",
              "    60% {\n",
              "      border-color: transparent;\n",
              "      border-right-color: var(--fill-color);\n",
              "    }\n",
              "    80% {\n",
              "      border-color: transparent;\n",
              "      border-right-color: var(--fill-color);\n",
              "      border-bottom-color: var(--fill-color);\n",
              "    }\n",
              "    90% {\n",
              "      border-color: transparent;\n",
              "      border-bottom-color: var(--fill-color);\n",
              "    }\n",
              "  }\n",
              "</style>\n",
              "\n",
              "  <script>\n",
              "    async function quickchart(key) {\n",
              "      const quickchartButtonEl =\n",
              "        document.querySelector('#' + key + ' button');\n",
              "      quickchartButtonEl.disabled = true;  // To prevent multiple clicks.\n",
              "      quickchartButtonEl.classList.add('colab-df-spinner');\n",
              "      try {\n",
              "        const charts = await google.colab.kernel.invokeFunction(\n",
              "            'suggestCharts', [key], {});\n",
              "      } catch (error) {\n",
              "        console.error('Error during call to suggestCharts:', error);\n",
              "      }\n",
              "      quickchartButtonEl.classList.remove('colab-df-spinner');\n",
              "      quickchartButtonEl.classList.add('colab-df-quickchart-complete');\n",
              "    }\n",
              "    (() => {\n",
              "      let quickchartButtonEl =\n",
              "        document.querySelector('#df-70c1d5a3-2876-42f2-857b-930794151f0e button');\n",
              "      quickchartButtonEl.style.display =\n",
              "        google.colab.kernel.accessAllowed ? 'block' : 'none';\n",
              "    })();\n",
              "  </script>\n",
              "</div>\n",
              "\n",
              "    </div>\n",
              "  </div>\n"
            ],
            "application/vnd.google.colaboratory.intrinsic+json": {
              "type": "dataframe",
              "variable_name": "train_data"
            }
          },
          "metadata": {},
          "execution_count": 5
        }
      ]
    },
    {
      "cell_type": "code",
      "source": [
        "train_data['date'] = pd.to_datetime(train_data['date'], format=\"%Y-%m-%d\")"
      ],
      "metadata": {
        "id": "ogJAOJNQ7yj6"
      },
      "execution_count": null,
      "outputs": []
    },
    {
      "cell_type": "code",
      "source": [
        "train_data.info()"
      ],
      "metadata": {
        "colab": {
          "base_uri": "https://localhost:8080/"
        },
        "id": "eiWWN_F37qjF",
        "outputId": "e5dae6df-9dfc-4d81-f237-0a05cb158559"
      },
      "execution_count": null,
      "outputs": [
        {
          "output_type": "stream",
          "name": "stdout",
          "text": [
            "<class 'pandas.core.frame.DataFrame'>\n",
            "RangeIndex: 3000888 entries, 0 to 3000887\n",
            "Data columns (total 6 columns):\n",
            " #   Column       Dtype         \n",
            "---  ------       -----         \n",
            " 0   id           int64         \n",
            " 1   date         datetime64[ns]\n",
            " 2   store_nbr    int64         \n",
            " 3   family       object        \n",
            " 4   sales        float64       \n",
            " 5   onpromotion  int64         \n",
            "dtypes: datetime64[ns](1), float64(1), int64(3), object(1)\n",
            "memory usage: 137.4+ MB\n"
          ]
        }
      ]
    },
    {
      "cell_type": "code",
      "source": [
        "train_data.isna().sum().sum()"
      ],
      "metadata": {
        "colab": {
          "base_uri": "https://localhost:8080/"
        },
        "id": "49fYJUIUxEmp",
        "outputId": "1406adb9-6ad2-4355-e46c-009e954c3c0d"
      },
      "execution_count": null,
      "outputs": [
        {
          "output_type": "execute_result",
          "data": {
            "text/plain": [
              "0"
            ]
          },
          "metadata": {},
          "execution_count": 8
        }
      ]
    },
    {
      "cell_type": "code",
      "source": [
        "oil.isna().sum().sum()"
      ],
      "metadata": {
        "colab": {
          "base_uri": "https://localhost:8080/"
        },
        "id": "arQMhk-gxQx1",
        "outputId": "11bbcb21-b78a-4ab1-f476-453cbc231f86"
      },
      "execution_count": null,
      "outputs": [
        {
          "output_type": "execute_result",
          "data": {
            "text/plain": [
              "43"
            ]
          },
          "metadata": {},
          "execution_count": 9
        }
      ]
    },
    {
      "cell_type": "code",
      "source": [
        "oil.head()"
      ],
      "metadata": {
        "colab": {
          "base_uri": "https://localhost:8080/"
        },
        "id": "DNYc7tuQxSTk",
        "outputId": "e1dcf349-e1c7-43b4-fff3-7451e7d63480"
      },
      "execution_count": null,
      "outputs": [
        {
          "output_type": "execute_result",
          "data": {
            "text/plain": [
              "        date  dcoilwtico\n",
              "0 2013-01-01         NaN\n",
              "1 2013-01-02       93.14\n",
              "2 2013-01-03       92.97\n",
              "3 2013-01-04       93.12\n",
              "4 2013-01-07       93.20"
            ],
            "text/html": [
              "\n",
              "  <div id=\"df-81b46609-81f0-4edc-bf21-ae22700502d4\" class=\"colab-df-container\">\n",
              "    <div>\n",
              "<style scoped>\n",
              "    .dataframe tbody tr th:only-of-type {\n",
              "        vertical-align: middle;\n",
              "    }\n",
              "\n",
              "    .dataframe tbody tr th {\n",
              "        vertical-align: top;\n",
              "    }\n",
              "\n",
              "    .dataframe thead th {\n",
              "        text-align: right;\n",
              "    }\n",
              "</style>\n",
              "<table border=\"1\" class=\"dataframe\">\n",
              "  <thead>\n",
              "    <tr style=\"text-align: right;\">\n",
              "      <th></th>\n",
              "      <th>date</th>\n",
              "      <th>dcoilwtico</th>\n",
              "    </tr>\n",
              "  </thead>\n",
              "  <tbody>\n",
              "    <tr>\n",
              "      <th>0</th>\n",
              "      <td>2013-01-01</td>\n",
              "      <td>NaN</td>\n",
              "    </tr>\n",
              "    <tr>\n",
              "      <th>1</th>\n",
              "      <td>2013-01-02</td>\n",
              "      <td>93.14</td>\n",
              "    </tr>\n",
              "    <tr>\n",
              "      <th>2</th>\n",
              "      <td>2013-01-03</td>\n",
              "      <td>92.97</td>\n",
              "    </tr>\n",
              "    <tr>\n",
              "      <th>3</th>\n",
              "      <td>2013-01-04</td>\n",
              "      <td>93.12</td>\n",
              "    </tr>\n",
              "    <tr>\n",
              "      <th>4</th>\n",
              "      <td>2013-01-07</td>\n",
              "      <td>93.20</td>\n",
              "    </tr>\n",
              "  </tbody>\n",
              "</table>\n",
              "</div>\n",
              "    <div class=\"colab-df-buttons\">\n",
              "\n",
              "  <div class=\"colab-df-container\">\n",
              "    <button class=\"colab-df-convert\" onclick=\"convertToInteractive('df-81b46609-81f0-4edc-bf21-ae22700502d4')\"\n",
              "            title=\"Convert this dataframe to an interactive table.\"\n",
              "            style=\"display:none;\">\n",
              "\n",
              "  <svg xmlns=\"http://www.w3.org/2000/svg\" height=\"24px\" viewBox=\"0 -960 960 960\">\n",
              "    <path d=\"M120-120v-720h720v720H120Zm60-500h600v-160H180v160Zm220 220h160v-160H400v160Zm0 220h160v-160H400v160ZM180-400h160v-160H180v160Zm440 0h160v-160H620v160ZM180-180h160v-160H180v160Zm440 0h160v-160H620v160Z\"/>\n",
              "  </svg>\n",
              "    </button>\n",
              "\n",
              "  <style>\n",
              "    .colab-df-container {\n",
              "      display:flex;\n",
              "      gap: 12px;\n",
              "    }\n",
              "\n",
              "    .colab-df-convert {\n",
              "      background-color: #E8F0FE;\n",
              "      border: none;\n",
              "      border-radius: 50%;\n",
              "      cursor: pointer;\n",
              "      display: none;\n",
              "      fill: #1967D2;\n",
              "      height: 32px;\n",
              "      padding: 0 0 0 0;\n",
              "      width: 32px;\n",
              "    }\n",
              "\n",
              "    .colab-df-convert:hover {\n",
              "      background-color: #E2EBFA;\n",
              "      box-shadow: 0px 1px 2px rgba(60, 64, 67, 0.3), 0px 1px 3px 1px rgba(60, 64, 67, 0.15);\n",
              "      fill: #174EA6;\n",
              "    }\n",
              "\n",
              "    .colab-df-buttons div {\n",
              "      margin-bottom: 4px;\n",
              "    }\n",
              "\n",
              "    [theme=dark] .colab-df-convert {\n",
              "      background-color: #3B4455;\n",
              "      fill: #D2E3FC;\n",
              "    }\n",
              "\n",
              "    [theme=dark] .colab-df-convert:hover {\n",
              "      background-color: #434B5C;\n",
              "      box-shadow: 0px 1px 3px 1px rgba(0, 0, 0, 0.15);\n",
              "      filter: drop-shadow(0px 1px 2px rgba(0, 0, 0, 0.3));\n",
              "      fill: #FFFFFF;\n",
              "    }\n",
              "  </style>\n",
              "\n",
              "    <script>\n",
              "      const buttonEl =\n",
              "        document.querySelector('#df-81b46609-81f0-4edc-bf21-ae22700502d4 button.colab-df-convert');\n",
              "      buttonEl.style.display =\n",
              "        google.colab.kernel.accessAllowed ? 'block' : 'none';\n",
              "\n",
              "      async function convertToInteractive(key) {\n",
              "        const element = document.querySelector('#df-81b46609-81f0-4edc-bf21-ae22700502d4');\n",
              "        const dataTable =\n",
              "          await google.colab.kernel.invokeFunction('convertToInteractive',\n",
              "                                                    [key], {});\n",
              "        if (!dataTable) return;\n",
              "\n",
              "        const docLinkHtml = 'Like what you see? Visit the ' +\n",
              "          '<a target=\"_blank\" href=https://colab.research.google.com/notebooks/data_table.ipynb>data table notebook</a>'\n",
              "          + ' to learn more about interactive tables.';\n",
              "        element.innerHTML = '';\n",
              "        dataTable['output_type'] = 'display_data';\n",
              "        await google.colab.output.renderOutput(dataTable, element);\n",
              "        const docLink = document.createElement('div');\n",
              "        docLink.innerHTML = docLinkHtml;\n",
              "        element.appendChild(docLink);\n",
              "      }\n",
              "    </script>\n",
              "  </div>\n",
              "\n",
              "\n",
              "<div id=\"df-a567faac-fc3c-4623-926f-df036482351a\">\n",
              "  <button class=\"colab-df-quickchart\" onclick=\"quickchart('df-a567faac-fc3c-4623-926f-df036482351a')\"\n",
              "            title=\"Suggest charts\"\n",
              "            style=\"display:none;\">\n",
              "\n",
              "<svg xmlns=\"http://www.w3.org/2000/svg\" height=\"24px\"viewBox=\"0 0 24 24\"\n",
              "     width=\"24px\">\n",
              "    <g>\n",
              "        <path d=\"M19 3H5c-1.1 0-2 .9-2 2v14c0 1.1.9 2 2 2h14c1.1 0 2-.9 2-2V5c0-1.1-.9-2-2-2zM9 17H7v-7h2v7zm4 0h-2V7h2v10zm4 0h-2v-4h2v4z\"/>\n",
              "    </g>\n",
              "</svg>\n",
              "  </button>\n",
              "\n",
              "<style>\n",
              "  .colab-df-quickchart {\n",
              "      --bg-color: #E8F0FE;\n",
              "      --fill-color: #1967D2;\n",
              "      --hover-bg-color: #E2EBFA;\n",
              "      --hover-fill-color: #174EA6;\n",
              "      --disabled-fill-color: #AAA;\n",
              "      --disabled-bg-color: #DDD;\n",
              "  }\n",
              "\n",
              "  [theme=dark] .colab-df-quickchart {\n",
              "      --bg-color: #3B4455;\n",
              "      --fill-color: #D2E3FC;\n",
              "      --hover-bg-color: #434B5C;\n",
              "      --hover-fill-color: #FFFFFF;\n",
              "      --disabled-bg-color: #3B4455;\n",
              "      --disabled-fill-color: #666;\n",
              "  }\n",
              "\n",
              "  .colab-df-quickchart {\n",
              "    background-color: var(--bg-color);\n",
              "    border: none;\n",
              "    border-radius: 50%;\n",
              "    cursor: pointer;\n",
              "    display: none;\n",
              "    fill: var(--fill-color);\n",
              "    height: 32px;\n",
              "    padding: 0;\n",
              "    width: 32px;\n",
              "  }\n",
              "\n",
              "  .colab-df-quickchart:hover {\n",
              "    background-color: var(--hover-bg-color);\n",
              "    box-shadow: 0 1px 2px rgba(60, 64, 67, 0.3), 0 1px 3px 1px rgba(60, 64, 67, 0.15);\n",
              "    fill: var(--button-hover-fill-color);\n",
              "  }\n",
              "\n",
              "  .colab-df-quickchart-complete:disabled,\n",
              "  .colab-df-quickchart-complete:disabled:hover {\n",
              "    background-color: var(--disabled-bg-color);\n",
              "    fill: var(--disabled-fill-color);\n",
              "    box-shadow: none;\n",
              "  }\n",
              "\n",
              "  .colab-df-spinner {\n",
              "    border: 2px solid var(--fill-color);\n",
              "    border-color: transparent;\n",
              "    border-bottom-color: var(--fill-color);\n",
              "    animation:\n",
              "      spin 1s steps(1) infinite;\n",
              "  }\n",
              "\n",
              "  @keyframes spin {\n",
              "    0% {\n",
              "      border-color: transparent;\n",
              "      border-bottom-color: var(--fill-color);\n",
              "      border-left-color: var(--fill-color);\n",
              "    }\n",
              "    20% {\n",
              "      border-color: transparent;\n",
              "      border-left-color: var(--fill-color);\n",
              "      border-top-color: var(--fill-color);\n",
              "    }\n",
              "    30% {\n",
              "      border-color: transparent;\n",
              "      border-left-color: var(--fill-color);\n",
              "      border-top-color: var(--fill-color);\n",
              "      border-right-color: var(--fill-color);\n",
              "    }\n",
              "    40% {\n",
              "      border-color: transparent;\n",
              "      border-right-color: var(--fill-color);\n",
              "      border-top-color: var(--fill-color);\n",
              "    }\n",
              "    60% {\n",
              "      border-color: transparent;\n",
              "      border-right-color: var(--fill-color);\n",
              "    }\n",
              "    80% {\n",
              "      border-color: transparent;\n",
              "      border-right-color: var(--fill-color);\n",
              "      border-bottom-color: var(--fill-color);\n",
              "    }\n",
              "    90% {\n",
              "      border-color: transparent;\n",
              "      border-bottom-color: var(--fill-color);\n",
              "    }\n",
              "  }\n",
              "</style>\n",
              "\n",
              "  <script>\n",
              "    async function quickchart(key) {\n",
              "      const quickchartButtonEl =\n",
              "        document.querySelector('#' + key + ' button');\n",
              "      quickchartButtonEl.disabled = true;  // To prevent multiple clicks.\n",
              "      quickchartButtonEl.classList.add('colab-df-spinner');\n",
              "      try {\n",
              "        const charts = await google.colab.kernel.invokeFunction(\n",
              "            'suggestCharts', [key], {});\n",
              "      } catch (error) {\n",
              "        console.error('Error during call to suggestCharts:', error);\n",
              "      }\n",
              "      quickchartButtonEl.classList.remove('colab-df-spinner');\n",
              "      quickchartButtonEl.classList.add('colab-df-quickchart-complete');\n",
              "    }\n",
              "    (() => {\n",
              "      let quickchartButtonEl =\n",
              "        document.querySelector('#df-a567faac-fc3c-4623-926f-df036482351a button');\n",
              "      quickchartButtonEl.style.display =\n",
              "        google.colab.kernel.accessAllowed ? 'block' : 'none';\n",
              "    })();\n",
              "  </script>\n",
              "</div>\n",
              "\n",
              "    </div>\n",
              "  </div>\n"
            ],
            "application/vnd.google.colaboratory.intrinsic+json": {
              "type": "dataframe",
              "variable_name": "oil",
              "summary": "{\n  \"name\": \"oil\",\n  \"rows\": 1218,\n  \"fields\": [\n    {\n      \"column\": \"date\",\n      \"properties\": {\n        \"dtype\": \"date\",\n        \"min\": \"2013-01-01 00:00:00\",\n        \"max\": \"2017-08-31 00:00:00\",\n        \"num_unique_values\": 1218,\n        \"samples\": [\n          \"2015-01-28 00:00:00\",\n          \"2013-12-30 00:00:00\",\n          \"2013-03-01 00:00:00\"\n        ],\n        \"semantic_type\": \"\",\n        \"description\": \"\"\n      }\n    },\n    {\n      \"column\": \"dcoilwtico\",\n      \"properties\": {\n        \"dtype\": \"number\",\n        \"std\": 25.630475729453224,\n        \"min\": 26.19,\n        \"max\": 110.62,\n        \"num_unique_values\": 998,\n        \"samples\": [\n          47.85,\n          45.23,\n          93.86\n        ],\n        \"semantic_type\": \"\",\n        \"description\": \"\"\n      }\n    }\n  ]\n}"
            }
          },
          "metadata": {},
          "execution_count": 10
        }
      ]
    },
    {
      "cell_type": "code",
      "source": [
        "oil.set_index('date', inplace=True)\n",
        "\n",
        "missing = oil['dcoilwtico'].isnull()\n",
        "\n",
        "plt.figure(figsize=(12, 6))\n",
        "plt.plot(missing.index, missing, linestyle='', marker='o', color='red', label='Missing Data')\n",
        "plt.title('Missing Data in Oil Prices')\n",
        "plt.xlabel('Date')\n",
        "plt.ylabel('Missing')\n",
        "plt.legend()\n",
        "plt.show()\n",
        "\n",
        "oil.reset_index(inplace=True)"
      ],
      "metadata": {
        "colab": {
          "base_uri": "https://localhost:8080/"
        },
        "id": "EzoXDS5E2vDL",
        "outputId": "3ae4b29c-2f5f-4338-d405-408aa92a963a"
      },
      "execution_count": null,
      "outputs": [
        {
          "output_type": "display_data",
          "data": {
            "text/plain": [
              "<Figure size 1200x600 with 1 Axes>"
            ],
            "image/png": "[encoded data removed]"
          },
          "metadata": {}
        }
      ]
    },
    {
      "cell_type": "code",
      "source": [
        "min_date = oil['date'].min()\n",
        "max_date = oil['date'].max()\n",
        "\n",
        "start_date = min_date - timedelta(days=60)\n",
        "end_date = max_date + timedelta(days=60)\n",
        "\n",
        "oil_yf = yf.download('CL=F', start=start_date.strftime('%Y-%m-%d'), end=end_date.strftime('%Y-%m-%d'), progress=True)\n",
        "\n",
        "oil_yf = oil_yf[['Adj Close']].reset_index()\n",
        "oil_yf.columns = ['date', 'dcoilwtico']\n",
        "oil_yf.head()"
      ],
      "metadata": {
        "colab": {
          "base_uri": "https://localhost:8080/"
        },
        "id": "yrenA8eiRXpO",
        "outputId": "f127ff7c-a21d-469a-ecf4-004881526f20"
      },
      "execution_count": null,
      "outputs": [
        {
          "output_type": "stream",
          "name": "stderr",
          "text": [
            "\r[*********************100%***********************]  1 of 1 completed\n"
          ]
        },
        {
          "output_type": "execute_result",
          "data": {
            "text/plain": [
              "        date  dcoilwtico\n",
              "0 2012-11-02   84.860001\n",
              "1 2012-11-05   85.650002\n",
              "2 2012-11-06   88.709999\n",
              "3 2012-11-07   84.440002\n",
              "4 2012-11-08   85.089996"
            ],
            "text/html": [
              "\n",
              "  <div id=\"df-1e3c6733-0e33-4292-890e-49009111a5b9\" class=\"colab-df-container\">\n",
              "    <div>\n",
              "<style scoped>\n",
              "    .dataframe tbody tr th:only-of-type {\n",
              "        vertical-align: middle;\n",
              "    }\n",
              "\n",
              "    .dataframe tbody tr th {\n",
              "        vertical-align: top;\n",
              "    }\n",
              "\n",
              "    .dataframe thead th {\n",
              "        text-align: right;\n",
              "    }\n",
              "</style>\n",
              "<table border=\"1\" class=\"dataframe\">\n",
              "  <thead>\n",
              "    <tr style=\"text-align: right;\">\n",
              "      <th></th>\n",
              "      <th>date</th>\n",
              "      <th>dcoilwtico</th>\n",
              "    </tr>\n",
              "  </thead>\n",
              "  <tbody>\n",
              "    <tr>\n",
              "      <th>0</th>\n",
              "      <td>2012-11-02</td>\n",
              "      <td>84.860001</td>\n",
              "    </tr>\n",
              "    <tr>\n",
              "      <th>1</th>\n",
              "      <td>2012-11-05</td>\n",
              "      <td>85.650002</td>\n",
              "    </tr>\n",
              "    <tr>\n",
              "      <th>2</th>\n",
              "      <td>2012-11-06</td>\n",
              "      <td>88.709999</td>\n",
              "    </tr>\n",
              "    <tr>\n",
              "      <th>3</th>\n",
              "      <td>2012-11-07</td>\n",
              "      <td>84.440002</td>\n",
              "    </tr>\n",
              "    <tr>\n",
              "      <th>4</th>\n",
              "      <td>2012-11-08</td>\n",
              "      <td>85.089996</td>\n",
              "    </tr>\n",
              "  </tbody>\n",
              "</table>\n",
              "</div>\n",
              "    <div class=\"colab-df-buttons\">\n",
              "\n",
              "  <div class=\"colab-df-container\">\n",
              "    <button class=\"colab-df-convert\" onclick=\"convertToInteractive('df-1e3c6733-0e33-4292-890e-49009111a5b9')\"\n",
              "            title=\"Convert this dataframe to an interactive table.\"\n",
              "            style=\"display:none;\">\n",
              "\n",
              "  <svg xmlns=\"http://www.w3.org/2000/svg\" height=\"24px\" viewBox=\"0 -960 960 960\">\n",
              "    <path d=\"M120-120v-720h720v720H120Zm60-500h600v-160H180v160Zm220 220h160v-160H400v160Zm0 220h160v-160H400v160ZM180-400h160v-160H180v160Zm440 0h160v-160H620v160ZM180-180h160v-160H180v160Zm440 0h160v-160H620v160Z\"/>\n",
              "  </svg>\n",
              "    </button>\n",
              "\n",
              "  <style>\n",
              "    .colab-df-container {\n",
              "      display:flex;\n",
              "      gap: 12px;\n",
              "    }\n",
              "\n",
              "    .colab-df-convert {\n",
              "      background-color: #E8F0FE;\n",
              "      border: none;\n",
              "      border-radius: 50%;\n",
              "      cursor: pointer;\n",
              "      display: none;\n",
              "      fill: #1967D2;\n",
              "      height: 32px;\n",
              "      padding: 0 0 0 0;\n",
              "      width: 32px;\n",
              "    }\n",
              "\n",
              "    .colab-df-convert:hover {\n",
              "      background-color: #E2EBFA;\n",
              "      box-shadow: 0px 1px 2px rgba(60, 64, 67, 0.3), 0px 1px 3px 1px rgba(60, 64, 67, 0.15);\n",
              "      fill: #174EA6;\n",
              "    }\n",
              "\n",
              "    .colab-df-buttons div {\n",
              "      margin-bottom: 4px;\n",
              "    }\n",
              "\n",
              "    [theme=dark] .colab-df-convert {\n",
              "      background-color: #3B4455;\n",
              "      fill: #D2E3FC;\n",
              "    }\n",
              "\n",
              "    [theme=dark] .colab-df-convert:hover {\n",
              "      background-color: #434B5C;\n",
              "      box-shadow: 0px 1px 3px 1px rgba(0, 0, 0, 0.15);\n",
              "      filter: drop-shadow(0px 1px 2px rgba(0, 0, 0, 0.3));\n",
              "      fill: #FFFFFF;\n",
              "    }\n",
              "  </style>\n",
              "\n",
              "    <script>\n",
              "      const buttonEl =\n",
              "        document.querySelector('#df-1e3c6733-0e33-4292-890e-49009111a5b9 button.colab-df-convert');\n",
              "      buttonEl.style.display =\n",
              "        google.colab.kernel.accessAllowed ? 'block' : 'none';\n",
              "\n",
              "      async function convertToInteractive(key) {\n",
              "        const element = document.querySelector('#df-1e3c6733-0e33-4292-890e-49009111a5b9');\n",
              "        const dataTable =\n",
              "          await google.colab.kernel.invokeFunction('convertToInteractive',\n",
              "                                                    [key], {});\n",
              "        if (!dataTable) return;\n",
              "\n",
              "        const docLinkHtml = 'Like what you see? Visit the ' +\n",
              "          '<a target=\"_blank\" href=https://colab.research.google.com/notebooks/data_table.ipynb>data table notebook</a>'\n",
              "          + ' to learn more about interactive tables.';\n",
              "        element.innerHTML = '';\n",
              "        dataTable['output_type'] = 'display_data';\n",
              "        await google.colab.output.renderOutput(dataTable, element);\n",
              "        const docLink = document.createElement('div');\n",
              "        docLink.innerHTML = docLinkHtml;\n",
              "        element.appendChild(docLink);\n",
              "      }\n",
              "    </script>\n",
              "  </div>\n",
              "\n",
              "\n",
              "<div id=\"df-68d1793d-ca8c-4ef1-8ab6-9159a70571bc\">\n",
              "  <button class=\"colab-df-quickchart\" onclick=\"quickchart('df-68d1793d-ca8c-4ef1-8ab6-9159a70571bc')\"\n",
              "            title=\"Suggest charts\"\n",
              "            style=\"display:none;\">\n",
              "\n",
              "<svg xmlns=\"http://www.w3.org/2000/svg\" height=\"24px\"viewBox=\"0 0 24 24\"\n",
              "     width=\"24px\">\n",
              "    <g>\n",
              "        <path d=\"M19 3H5c-1.1 0-2 .9-2 2v14c0 1.1.9 2 2 2h14c1.1 0 2-.9 2-2V5c0-1.1-.9-2-2-2zM9 17H7v-7h2v7zm4 0h-2V7h2v10zm4 0h-2v-4h2v4z\"/>\n",
              "    </g>\n",
              "</svg>\n",
              "  </button>\n",
              "\n",
              "<style>\n",
              "  .colab-df-quickchart {\n",
              "      --bg-color: #E8F0FE;\n",
              "      --fill-color: #1967D2;\n",
              "      --hover-bg-color: #E2EBFA;\n",
              "      --hover-fill-color: #174EA6;\n",
              "      --disabled-fill-color: #AAA;\n",
              "      --disabled-bg-color: #DDD;\n",
              "  }\n",
              "\n",
              "  [theme=dark] .colab-df-quickchart {\n",
              "      --bg-color: #3B4455;\n",
              "      --fill-color: #D2E3FC;\n",
              "      --hover-bg-color: #434B5C;\n",
              "      --hover-fill-color: #FFFFFF;\n",
              "      --disabled-bg-color: #3B4455;\n",
              "      --disabled-fill-color: #666;\n",
              "  }\n",
              "\n",
              "  .colab-df-quickchart {\n",
              "    background-color: var(--bg-color);\n",
              "    border: none;\n",
              "    border-radius: 50%;\n",
              "    cursor: pointer;\n",
              "    display: none;\n",
              "    fill: var(--fill-color);\n",
              "    height: 32px;\n",
              "    padding: 0;\n",
              "    width: 32px;\n",
              "  }\n",
              "\n",
              "  .colab-df-quickchart:hover {\n",
              "    background-color: var(--hover-bg-color);\n",
              "    box-shadow: 0 1px 2px rgba(60, 64, 67, 0.3), 0 1px 3px 1px rgba(60, 64, 67, 0.15);\n",
              "    fill: var(--button-hover-fill-color);\n",
              "  }\n",
              "\n",
              "  .colab-df-quickchart-complete:disabled,\n",
              "  .colab-df-quickchart-complete:disabled:hover {\n",
              "    background-color: var(--disabled-bg-color);\n",
              "    fill: var(--disabled-fill-color);\n",
              "    box-shadow: none;\n",
              "  }\n",
              "\n",
              "  .colab-df-spinner {\n",
              "    border: 2px solid var(--fill-color);\n",
              "    border-color: transparent;\n",
              "    border-bottom-color: var(--fill-color);\n",
              "    animation:\n",
              "      spin 1s steps(1) infinite;\n",
              "  }\n",
              "\n",
              "  @keyframes spin {\n",
              "    0% {\n",
              "      border-color: transparent;\n",
              "      border-bottom-color: var(--fill-color);\n",
              "      border-left-color: var(--fill-color);\n",
              "    }\n",
              "    20% {\n",
              "      border-color: transparent;\n",
              "      border-left-color: var(--fill-color);\n",
              "      border-top-color: var(--fill-color);\n",
              "    }\n",
              "    30% {\n",
              "      border-color: transparent;\n",
              "      border-left-color: var(--fill-color);\n",
              "      border-top-color: var(--fill-color);\n",
              "      border-right-color: var(--fill-color);\n",
              "    }\n",
              "    40% {\n",
              "      border-color: transparent;\n",
              "      border-right-color: var(--fill-color);\n",
              "      border-top-color: var(--fill-color);\n",
              "    }\n",
              "    60% {\n",
              "      border-color: transparent;\n",
              "      border-right-color: var(--fill-color);\n",
              "    }\n",
              "    80% {\n",
              "      border-color: transparent;\n",
              "      border-right-color: var(--fill-color);\n",
              "      border-bottom-color: var(--fill-color);\n",
              "    }\n",
              "    90% {\n",
              "      border-color: transparent;\n",
              "      border-bottom-color: var(--fill-color);\n",
              "    }\n",
              "  }\n",
              "</style>\n",
              "\n",
              "  <script>\n",
              "    async function quickchart(key) {\n",
              "      const quickchartButtonEl =\n",
              "        document.querySelector('#' + key + ' button');\n",
              "      quickchartButtonEl.disabled = true;  // To prevent multiple clicks.\n",
              "      quickchartButtonEl.classList.add('colab-df-spinner');\n",
              "      try {\n",
              "        const charts = await google.colab.kernel.invokeFunction(\n",
              "            'suggestCharts', [key], {});\n",
              "      } catch (error) {\n",
              "        console.error('Error during call to suggestCharts:', error);\n",
              "      }\n",
              "      quickchartButtonEl.classList.remove('colab-df-spinner');\n",
              "      quickchartButtonEl.classList.add('colab-df-quickchart-complete');\n",
              "    }\n",
              "    (() => {\n",
              "      let quickchartButtonEl =\n",
              "        document.querySelector('#df-68d1793d-ca8c-4ef1-8ab6-9159a70571bc button');\n",
              "      quickchartButtonEl.style.display =\n",
              "        google.colab.kernel.accessAllowed ? 'block' : 'none';\n",
              "    })();\n",
              "  </script>\n",
              "</div>\n",
              "\n",
              "    </div>\n",
              "  </div>\n"
            ],
            "application/vnd.google.colaboratory.intrinsic+json": {
              "type": "dataframe",
              "variable_name": "oil_yf",
              "summary": "{\n  \"name\": \"oil_yf\",\n  \"rows\": 1254,\n  \"fields\": [\n    {\n      \"column\": \"date\",\n      \"properties\": {\n        \"dtype\": \"date\",\n        \"min\": \"2012-11-02 00:00:00\",\n        \"max\": \"2017-10-27 00:00:00\",\n        \"num_unique_values\": 1254,\n        \"samples\": [\n          \"2017-10-27 00:00:00\",\n          \"2013-04-02 00:00:00\",\n          \"2013-01-17 00:00:00\"\n        ],\n        \"semantic_type\": \"\",\n        \"description\": \"\"\n      }\n    },\n    {\n      \"column\": \"dcoilwtico\",\n      \"properties\": {\n        \"dtype\": \"number\",\n        \"std\": 25.120791814686697,\n        \"min\": 26.209999084472656,\n        \"max\": 110.52999877929688,\n        \"num_unique_values\": 1092,\n        \"samples\": [\n          54.72999954223633,\n          91.97000122070312,\n          92.5199966430664\n        ],\n        \"semantic_type\": \"\",\n        \"description\": \"\"\n      }\n    }\n  ]\n}"
            }
          },
          "metadata": {},
          "execution_count": 12
        }
      ]
    },
    {
      "cell_type": "code",
      "source": [
        "full_oil = pd.merge(oil, oil_yf, on='date', how='outer').sort_values(by='date')\n",
        "full_oil.drop(columns=['dcoilwtico_x'], inplace=True)\n",
        "full_oil.columns = ['date', 'dcoilwtico']\n",
        "full_oil['dcoilwtico'] = full_oil['dcoilwtico'].interpolate(method='linear')\n",
        "full_oil.head()"
      ],
      "metadata": {
        "colab": {
          "base_uri": "https://localhost:8080/"
        },
        "id": "f2uBGBGHSa1K",
        "outputId": "2d6f376e-89d2-4598-f2dc-41641430490b"
      },
      "execution_count": null,
      "outputs": [
        {
          "output_type": "execute_result",
          "data": {
            "text/plain": [
              "        date  dcoilwtico\n",
              "0 2012-11-02   84.860001\n",
              "1 2012-11-05   85.650002\n",
              "2 2012-11-06   88.709999\n",
              "3 2012-11-07   84.440002\n",
              "4 2012-11-08   85.089996"
            ],
            "text/html": [
              "\n",
              "  <div id=\"df-c6c804a8-f838-4c37-b1c6-01483f8f52f8\" class=\"colab-df-container\">\n",
              "    <div>\n",
              "<style scoped>\n",
              "    .dataframe tbody tr th:only-of-type {\n",
              "        vertical-align: middle;\n",
              "    }\n",
              "\n",
              "    .dataframe tbody tr th {\n",
              "        vertical-align: top;\n",
              "    }\n",
              "\n",
              "    .dataframe thead th {\n",
              "        text-align: right;\n",
              "    }\n",
              "</style>\n",
              "<table border=\"1\" class=\"dataframe\">\n",
              "  <thead>\n",
              "    <tr style=\"text-align: right;\">\n",
              "      <th></th>\n",
              "      <th>date</th>\n",
              "      <th>dcoilwtico</th>\n",
              "    </tr>\n",
              "  </thead>\n",
              "  <tbody>\n",
              "    <tr>\n",
              "      <th>0</th>\n",
              "      <td>2012-11-02</td>\n",
              "      <td>84.860001</td>\n",
              "    </tr>\n",
              "    <tr>\n",
              "      <th>1</th>\n",
              "      <td>2012-11-05</td>\n",
              "      <td>85.650002</td>\n",
              "    </tr>\n",
              "    <tr>\n",
              "      <th>2</th>\n",
              "      <td>2012-11-06</td>\n",
              "      <td>88.709999</td>\n",
              "    </tr>\n",
              "    <tr>\n",
              "      <th>3</th>\n",
              "      <td>2012-11-07</td>\n",
              "      <td>84.440002</td>\n",
              "    </tr>\n",
              "    <tr>\n",
              "      <th>4</th>\n",
              "      <td>2012-11-08</td>\n",
              "      <td>85.089996</td>\n",
              "    </tr>\n",
              "  </tbody>\n",
              "</table>\n",
              "</div>\n",
              "    <div class=\"colab-df-buttons\">\n",
              "\n",
              "  <div class=\"colab-df-container\">\n",
              "    <button class=\"colab-df-convert\" onclick=\"convertToInteractive('df-c6c804a8-f838-4c37-b1c6-01483f8f52f8')\"\n",
              "            title=\"Convert this dataframe to an interactive table.\"\n",
              "            style=\"display:none;\">\n",
              "\n",
              "  <svg xmlns=\"http://www.w3.org/2000/svg\" height=\"24px\" viewBox=\"0 -960 960 960\">\n",
              "    <path d=\"M120-120v-720h720v720H120Zm60-500h600v-160H180v160Zm220 220h160v-160H400v160Zm0 220h160v-160H400v160ZM180-400h160v-160H180v160Zm440 0h160v-160H620v160ZM180-180h160v-160H180v160Zm440 0h160v-160H620v160Z\"/>\n",
              "  </svg>\n",
              "    </button>\n",
              "\n",
              "  <style>\n",
              "    .colab-df-container {\n",
              "      display:flex;\n",
              "      gap: 12px;\n",
              "    }\n",
              "\n",
              "    .colab-df-convert {\n",
              "      background-color: #E8F0FE;\n",
              "      border: none;\n",
              "      border-radius: 50%;\n",
              "      cursor: pointer;\n",
              "      display: none;\n",
              "      fill: #1967D2;\n",
              "      height: 32px;\n",
              "      padding: 0 0 0 0;\n",
              "      width: 32px;\n",
              "    }\n",
              "\n",
              "    .colab-df-convert:hover {\n",
              "      background-color: #E2EBFA;\n",
              "      box-shadow: 0px 1px 2px rgba(60, 64, 67, 0.3), 0px 1px 3px 1px rgba(60, 64, 67, 0.15);\n",
              "      fill: #174EA6;\n",
              "    }\n",
              "\n",
              "    .colab-df-buttons div {\n",
              "      margin-bottom: 4px;\n",
              "    }\n",
              "\n",
              "    [theme=dark] .colab-df-convert {\n",
              "      background-color: #3B4455;\n",
              "      fill: #D2E3FC;\n",
              "    }\n",
              "\n",
              "    [theme=dark] .colab-df-convert:hover {\n",
              "      background-color: #434B5C;\n",
              "      box-shadow: 0px 1px 3px 1px rgba(0, 0, 0, 0.15);\n",
              "      filter: drop-shadow(0px 1px 2px rgba(0, 0, 0, 0.3));\n",
              "      fill: #FFFFFF;\n",
              "    }\n",
              "  </style>\n",
              "\n",
              "    <script>\n",
              "      const buttonEl =\n",
              "        document.querySelector('#df-c6c804a8-f838-4c37-b1c6-01483f8f52f8 button.colab-df-convert');\n",
              "      buttonEl.style.display =\n",
              "        google.colab.kernel.accessAllowed ? 'block' : 'none';\n",
              "\n",
              "      async function convertToInteractive(key) {\n",
              "        const element = document.querySelector('#df-c6c804a8-f838-4c37-b1c6-01483f8f52f8');\n",
              "        const dataTable =\n",
              "          await google.colab.kernel.invokeFunction('convertToInteractive',\n",
              "                                                    [key], {});\n",
              "        if (!dataTable) return;\n",
              "\n",
              "        const docLinkHtml = 'Like what you see? Visit the ' +\n",
              "          '<a target=\"_blank\" href=https://colab.research.google.com/notebooks/data_table.ipynb>data table notebook</a>'\n",
              "          + ' to learn more about interactive tables.';\n",
              "        element.innerHTML = '';\n",
              "        dataTable['output_type'] = 'display_data';\n",
              "        await google.colab.output.renderOutput(dataTable, element);\n",
              "        const docLink = document.createElement('div');\n",
              "        docLink.innerHTML = docLinkHtml;\n",
              "        element.appendChild(docLink);\n",
              "      }\n",
              "    </script>\n",
              "  </div>\n",
              "\n",
              "\n",
              "<div id=\"df-107b4b59-4981-4bd2-bac1-9f5cc2289a47\">\n",
              "  <button class=\"colab-df-quickchart\" onclick=\"quickchart('df-107b4b59-4981-4bd2-bac1-9f5cc2289a47')\"\n",
              "            title=\"Suggest charts\"\n",
              "            style=\"display:none;\">\n",
              "\n",
              "<svg xmlns=\"http://www.w3.org/2000/svg\" height=\"24px\"viewBox=\"0 0 24 24\"\n",
              "     width=\"24px\">\n",
              "    <g>\n",
              "        <path d=\"M19 3H5c-1.1 0-2 .9-2 2v14c0 1.1.9 2 2 2h14c1.1 0 2-.9 2-2V5c0-1.1-.9-2-2-2zM9 17H7v-7h2v7zm4 0h-2V7h2v10zm4 0h-2v-4h2v4z\"/>\n",
              "    </g>\n",
              "</svg>\n",
              "  </button>\n",
              "\n",
              "<style>\n",
              "  .colab-df-quickchart {\n",
              "      --bg-color: #E8F0FE;\n",
              "      --fill-color: #1967D2;\n",
              "      --hover-bg-color: #E2EBFA;\n",
              "      --hover-fill-color: #174EA6;\n",
              "      --disabled-fill-color: #AAA;\n",
              "      --disabled-bg-color: #DDD;\n",
              "  }\n",
              "\n",
              "  [theme=dark] .colab-df-quickchart {\n",
              "      --bg-color: #3B4455;\n",
              "      --fill-color: #D2E3FC;\n",
              "      --hover-bg-color: #434B5C;\n",
              "      --hover-fill-color: #FFFFFF;\n",
              "      --disabled-bg-color: #3B4455;\n",
              "      --disabled-fill-color: #666;\n",
              "  }\n",
              "\n",
              "  .colab-df-quickchart {\n",
              "    background-color: var(--bg-color);\n",
              "    border: none;\n",
              "    border-radius: 50%;\n",
              "    cursor: pointer;\n",
              "    display: none;\n",
              "    fill: var(--fill-color);\n",
              "    height: 32px;\n",
              "    padding: 0;\n",
              "    width: 32px;\n",
              "  }\n",
              "\n",
              "  .colab-df-quickchart:hover {\n",
              "    background-color: var(--hover-bg-color);\n",
              "    box-shadow: 0 1px 2px rgba(60, 64, 67, 0.3), 0 1px 3px 1px rgba(60, 64, 67, 0.15);\n",
              "    fill: var(--button-hover-fill-color);\n",
              "  }\n",
              "\n",
              "  .colab-df-quickchart-complete:disabled,\n",
              "  .colab-df-quickchart-complete:disabled:hover {\n",
              "    background-color: var(--disabled-bg-color);\n",
              "    fill: var(--disabled-fill-color);\n",
              "    box-shadow: none;\n",
              "  }\n",
              "\n",
              "  .colab-df-spinner {\n",
              "    border: 2px solid var(--fill-color);\n",
              "    border-color: transparent;\n",
              "    border-bottom-color: var(--fill-color);\n",
              "    animation:\n",
              "      spin 1s steps(1) infinite;\n",
              "  }\n",
              "\n",
              "  @keyframes spin {\n",
              "    0% {\n",
              "      border-color: transparent;\n",
              "      border-bottom-color: var(--fill-color);\n",
              "      border-left-color: var(--fill-color);\n",
              "    }\n",
              "    20% {\n",
              "      border-color: transparent;\n",
              "      border-left-color: var(--fill-color);\n",
              "      border-top-color: var(--fill-color);\n",
              "    }\n",
              "    30% {\n",
              "      border-color: transparent;\n",
              "      border-left-color: var(--fill-color);\n",
              "      border-top-color: var(--fill-color);\n",
              "      border-right-color: var(--fill-color);\n",
              "    }\n",
              "    40% {\n",
              "      border-color: transparent;\n",
              "      border-right-color: var(--fill-color);\n",
              "      border-top-color: var(--fill-color);\n",
              "    }\n",
              "    60% {\n",
              "      border-color: transparent;\n",
              "      border-right-color: var(--fill-color);\n",
              "    }\n",
              "    80% {\n",
              "      border-color: transparent;\n",
              "      border-right-color: var(--fill-color);\n",
              "      border-bottom-color: var(--fill-color);\n",
              "    }\n",
              "    90% {\n",
              "      border-color: transparent;\n",
              "      border-bottom-color: var(--fill-color);\n",
              "    }\n",
              "  }\n",
              "</style>\n",
              "\n",
              "  <script>\n",
              "    async function quickchart(key) {\n",
              "      const quickchartButtonEl =\n",
              "        document.querySelector('#' + key + ' button');\n",
              "      quickchartButtonEl.disabled = true;  // To prevent multiple clicks.\n",
              "      quickchartButtonEl.classList.add('colab-df-spinner');\n",
              "      try {\n",
              "        const charts = await google.colab.kernel.invokeFunction(\n",
              "            'suggestCharts', [key], {});\n",
              "      } catch (error) {\n",
              "        console.error('Error during call to suggestCharts:', error);\n",
              "      }\n",
              "      quickchartButtonEl.classList.remove('colab-df-spinner');\n",
              "      quickchartButtonEl.classList.add('colab-df-quickchart-complete');\n",
              "    }\n",
              "    (() => {\n",
              "      let quickchartButtonEl =\n",
              "        document.querySelector('#df-107b4b59-4981-4bd2-bac1-9f5cc2289a47 button');\n",
              "      quickchartButtonEl.style.display =\n",
              "        google.colab.kernel.accessAllowed ? 'block' : 'none';\n",
              "    })();\n",
              "  </script>\n",
              "</div>\n",
              "\n",
              "    </div>\n",
              "  </div>\n"
            ],
            "application/vnd.google.colaboratory.intrinsic+json": {
              "type": "dataframe",
              "variable_name": "full_oil",
              "summary": "{\n  \"name\": \"full_oil\",\n  \"rows\": 1298,\n  \"fields\": [\n    {\n      \"column\": \"date\",\n      \"properties\": {\n        \"dtype\": \"date\",\n        \"min\": \"2012-11-02 00:00:00\",\n        \"max\": \"2017-10-27 00:00:00\",\n        \"num_unique_values\": 1298,\n        \"samples\": [\n          \"2016-08-29 00:00:00\",\n          \"2015-01-23 00:00:00\",\n          \"2017-04-21 00:00:00\"\n        ],\n        \"semantic_type\": \"\",\n        \"description\": \"\"\n      }\n    },\n    {\n      \"column\": \"dcoilwtico\",\n      \"properties\": {\n        \"dtype\": \"number\",\n        \"std\": 25.130287732311785,\n        \"min\": 26.209999084472656,\n        \"max\": 110.52999877929688,\n        \"num_unique_values\": 1133,\n        \"samples\": [\n          31.479999542236328,\n          46.77000045776367,\n          96.06999969482422\n        ],\n        \"semantic_type\": \"\",\n        \"description\": \"\"\n      }\n    }\n  ]\n}"
            }
          },
          "metadata": {},
          "execution_count": 13
        }
      ]
    },
    {
      "cell_type": "code",
      "source": [
        "full_oil.dcoilwtico.isna().sum()"
      ],
      "metadata": {
        "colab": {
          "base_uri": "https://localhost:8080/"
        },
        "id": "lvdM6fgWS8SA",
        "outputId": "5c6dd3f5-4f3c-468c-c44f-bb4a35ae3376"
      },
      "execution_count": null,
      "outputs": [
        {
          "output_type": "execute_result",
          "data": {
            "text/plain": [
              "0"
            ]
          },
          "metadata": {},
          "execution_count": 14
        }
      ]
    },
    {
      "cell_type": "code",
      "source": [
        "oil = full_oil"
      ],
      "metadata": {
        "id": "roR76WYeTCaJ"
      },
      "execution_count": null,
      "outputs": []
    },
    {
      "cell_type": "code",
      "source": [
        "oil.isna().sum().sum()"
      ],
      "metadata": {
        "colab": {
          "base_uri": "https://localhost:8080/"
        },
        "id": "jMEO8mh04iPj",
        "outputId": "2dd3659a-3eb6-4dcf-bd1b-3a518ba9b1e7"
      },
      "execution_count": null,
      "outputs": [
        {
          "output_type": "execute_result",
          "data": {
            "text/plain": [
              "0"
            ]
          },
          "metadata": {},
          "execution_count": 16
        }
      ]
    },
    {
      "cell_type": "markdown",
      "source": [
        "# Конструирование признаков"
      ],
      "metadata": {
        "id": "X0EfIgIvybu-"
      }
    },
    {
      "cell_type": "code",
      "source": [
        "train_data.shape"
      ],
      "metadata": {
        "colab": {
          "base_uri": "https://localhost:8080/"
        },
        "id": "k5gLVTAyycDd",
        "outputId": "8ebb9d87-3a4f-4dd9-f214-60c873f28f64"
      },
      "execution_count": null,
      "outputs": [
        {
          "output_type": "execute_result",
          "data": {
            "text/plain": [
              "(3000888, 6)"
            ]
          },
          "metadata": {},
          "execution_count": 17
        }
      ]
    },
    {
      "cell_type": "code",
      "source": [
        "train_data.head()"
      ],
      "metadata": {
        "colab": {
          "base_uri": "https://localhost:8080/"
        },
        "id": "FNNmeVKQyxpZ",
        "outputId": "34cd8f32-1d2c-4ccc-90ff-834ca0e29fc2"
      },
      "execution_count": null,
      "outputs": [
        {
          "output_type": "execute_result",
          "data": {
            "text/plain": [
              "   id       date  store_nbr      family  sales  onpromotion\n",
              "0   0 2013-01-01          1  AUTOMOTIVE    0.0            0\n",
              "1   1 2013-01-01          1   BABY CARE    0.0            0\n",
              "2   2 2013-01-01          1      BEAUTY    0.0            0\n",
              "3   3 2013-01-01          1   BEVERAGES    0.0            0\n",
              "4   4 2013-01-01          1       BOOKS    0.0            0"
            ],
            "text/html": [
              "\n",
              "  <div id=\"df-f5114c56-9bc9-4378-92a8-6e66d5a25e15\" class=\"colab-df-container\">\n",
              "    <div>\n",
              "<style scoped>\n",
              "    .dataframe tbody tr th:only-of-type {\n",
              "        vertical-align: middle;\n",
              "    }\n",
              "\n",
              "    .dataframe tbody tr th {\n",
              "        vertical-align: top;\n",
              "    }\n",
              "\n",
              "    .dataframe thead th {\n",
              "        text-align: right;\n",
              "    }\n",
              "</style>\n",
              "<table border=\"1\" class=\"dataframe\">\n",
              "  <thead>\n",
              "    <tr style=\"text-align: right;\">\n",
              "      <th></th>\n",
              "      <th>id</th>\n",
              "      <th>date</th>\n",
              "      <th>store_nbr</th>\n",
              "      <th>family</th>\n",
              "      <th>sales</th>\n",
              "      <th>onpromotion</th>\n",
              "    </tr>\n",
              "  </thead>\n",
              "  <tbody>\n",
              "    <tr>\n",
              "      <th>0</th>\n",
              "      <td>0</td>\n",
              "      <td>2013-01-01</td>\n",
              "      <td>1</td>\n",
              "      <td>AUTOMOTIVE</td>\n",
              "      <td>0.0</td>\n",
              "      <td>0</td>\n",
              "    </tr>\n",
              "    <tr>\n",
              "      <th>1</th>\n",
              "      <td>1</td>\n",
              "      <td>2013-01-01</td>\n",
              "      <td>1</td>\n",
              "      <td>BABY CARE</td>\n",
              "      <td>0.0</td>\n",
              "      <td>0</td>\n",
              "    </tr>\n",
              "    <tr>\n",
              "      <th>2</th>\n",
              "      <td>2</td>\n",
              "      <td>2013-01-01</td>\n",
              "      <td>1</td>\n",
              "      <td>BEAUTY</td>\n",
              "      <td>0.0</td>\n",
              "      <td>0</td>\n",
              "    </tr>\n",
              "    <tr>\n",
              "      <th>3</th>\n",
              "      <td>3</td>\n",
              "      <td>2013-01-01</td>\n",
              "      <td>1</td>\n",
              "      <td>BEVERAGES</td>\n",
              "      <td>0.0</td>\n",
              "      <td>0</td>\n",
              "    </tr>\n",
              "    <tr>\n",
              "      <th>4</th>\n",
              "      <td>4</td>\n",
              "      <td>2013-01-01</td>\n",
              "      <td>1</td>\n",
              "      <td>BOOKS</td>\n",
              "      <td>0.0</td>\n",
              "      <td>0</td>\n",
              "    </tr>\n",
              "  </tbody>\n",
              "</table>\n",
              "</div>\n",
              "    <div class=\"colab-df-buttons\">\n",
              "\n",
              "  <div class=\"colab-df-container\">\n",
              "    <button class=\"colab-df-convert\" onclick=\"convertToInteractive('df-f5114c56-9bc9-4378-92a8-6e66d5a25e15')\"\n",
              "            title=\"Convert this dataframe to an interactive table.\"\n",
              "            style=\"display:none;\">\n",
              "\n",
              "  <svg xmlns=\"http://www.w3.org/2000/svg\" height=\"24px\" viewBox=\"0 -960 960 960\">\n",
              "    <path d=\"M120-120v-720h720v720H120Zm60-500h600v-160H180v160Zm220 220h160v-160H400v160Zm0 220h160v-160H400v160ZM180-400h160v-160H180v160Zm440 0h160v-160H620v160ZM180-180h160v-160H180v160Zm440 0h160v-160H620v160Z\"/>\n",
              "  </svg>\n",
              "    </button>\n",
              "\n",
              "  <style>\n",
              "    .colab-df-container {\n",
              "      display:flex;\n",
              "      gap: 12px;\n",
              "    }\n",
              "\n",
              "    .colab-df-convert {\n",
              "      background-color: #E8F0FE;\n",
              "      border: none;\n",
              "      border-radius: 50%;\n",
              "      cursor: pointer;\n",
              "      display: none;\n",
              "      fill: #1967D2;\n",
              "      height: 32px;\n",
              "      padding: 0 0 0 0;\n",
              "      width: 32px;\n",
              "    }\n",
              "\n",
              "    .colab-df-convert:hover {\n",
              "      background-color: #E2EBFA;\n",
              "      box-shadow: 0px 1px 2px rgba(60, 64, 67, 0.3), 0px 1px 3px 1px rgba(60, 64, 67, 0.15);\n",
              "      fill: #174EA6;\n",
              "    }\n",
              "\n",
              "    .colab-df-buttons div {\n",
              "      margin-bottom: 4px;\n",
              "    }\n",
              "\n",
              "    [theme=dark] .colab-df-convert {\n",
              "      background-color: #3B4455;\n",
              "      fill: #D2E3FC;\n",
              "    }\n",
              "\n",
              "    [theme=dark] .colab-df-convert:hover {\n",
              "      background-color: #434B5C;\n",
              "      box-shadow: 0px 1px 3px 1px rgba(0, 0, 0, 0.15);\n",
              "      filter: drop-shadow(0px 1px 2px rgba(0, 0, 0, 0.3));\n",
              "      fill: #FFFFFF;\n",
              "    }\n",
              "  </style>\n",
              "\n",
              "    <script>\n",
              "      const buttonEl =\n",
              "        document.querySelector('#df-f5114c56-9bc9-4378-92a8-6e66d5a25e15 button.colab-df-convert');\n",
              "      buttonEl.style.display =\n",
              "        google.colab.kernel.accessAllowed ? 'block' : 'none';\n",
              "\n",
              "      async function convertToInteractive(key) {\n",
              "        const element = document.querySelector('#df-f5114c56-9bc9-4378-92a8-6e66d5a25e15');\n",
              "        const dataTable =\n",
              "          await google.colab.kernel.invokeFunction('convertToInteractive',\n",
              "                                                    [key], {});\n",
              "        if (!dataTable) return;\n",
              "\n",
              "        const docLinkHtml = 'Like what you see? Visit the ' +\n",
              "          '<a target=\"_blank\" href=https://colab.research.google.com/notebooks/data_table.ipynb>data table notebook</a>'\n",
              "          + ' to learn more about interactive tables.';\n",
              "        element.innerHTML = '';\n",
              "        dataTable['output_type'] = 'display_data';\n",
              "        await google.colab.output.renderOutput(dataTable, element);\n",
              "        const docLink = document.createElement('div');\n",
              "        docLink.innerHTML = docLinkHtml;\n",
              "        element.appendChild(docLink);\n",
              "      }\n",
              "    </script>\n",
              "  </div>\n",
              "\n",
              "\n",
              "<div id=\"df-34bd0a94-2943-4389-aa55-3e926dfc25d5\">\n",
              "  <button class=\"colab-df-quickchart\" onclick=\"quickchart('df-34bd0a94-2943-4389-aa55-3e926dfc25d5')\"\n",
              "            title=\"Suggest charts\"\n",
              "            style=\"display:none;\">\n",
              "\n",
              "<svg xmlns=\"http://www.w3.org/2000/svg\" height=\"24px\"viewBox=\"0 0 24 24\"\n",
              "     width=\"24px\">\n",
              "    <g>\n",
              "        <path d=\"M19 3H5c-1.1 0-2 .9-2 2v14c0 1.1.9 2 2 2h14c1.1 0 2-.9 2-2V5c0-1.1-.9-2-2-2zM9 17H7v-7h2v7zm4 0h-2V7h2v10zm4 0h-2v-4h2v4z\"/>\n",
              "    </g>\n",
              "</svg>\n",
              "  </button>\n",
              "\n",
              "<style>\n",
              "  .colab-df-quickchart {\n",
              "      --bg-color: #E8F0FE;\n",
              "      --fill-color: #1967D2;\n",
              "      --hover-bg-color: #E2EBFA;\n",
              "      --hover-fill-color: #174EA6;\n",
              "      --disabled-fill-color: #AAA;\n",
              "      --disabled-bg-color: #DDD;\n",
              "  }\n",
              "\n",
              "  [theme=dark] .colab-df-quickchart {\n",
              "      --bg-color: #3B4455;\n",
              "      --fill-color: #D2E3FC;\n",
              "      --hover-bg-color: #434B5C;\n",
              "      --hover-fill-color: #FFFFFF;\n",
              "      --disabled-bg-color: #3B4455;\n",
              "      --disabled-fill-color: #666;\n",
              "  }\n",
              "\n",
              "  .colab-df-quickchart {\n",
              "    background-color: var(--bg-color);\n",
              "    border: none;\n",
              "    border-radius: 50%;\n",
              "    cursor: pointer;\n",
              "    display: none;\n",
              "    fill: var(--fill-color);\n",
              "    height: 32px;\n",
              "    padding: 0;\n",
              "    width: 32px;\n",
              "  }\n",
              "\n",
              "  .colab-df-quickchart:hover {\n",
              "    background-color: var(--hover-bg-color);\n",
              "    box-shadow: 0 1px 2px rgba(60, 64, 67, 0.3), 0 1px 3px 1px rgba(60, 64, 67, 0.15);\n",
              "    fill: var(--button-hover-fill-color);\n",
              "  }\n",
              "\n",
              "  .colab-df-quickchart-complete:disabled,\n",
              "  .colab-df-quickchart-complete:disabled:hover {\n",
              "    background-color: var(--disabled-bg-color);\n",
              "    fill: var(--disabled-fill-color);\n",
              "    box-shadow: none;\n",
              "  }\n",
              "\n",
              "  .colab-df-spinner {\n",
              "    border: 2px solid var(--fill-color);\n",
              "    border-color: transparent;\n",
              "    border-bottom-color: var(--fill-color);\n",
              "    animation:\n",
              "      spin 1s steps(1) infinite;\n",
              "  }\n",
              "\n",
              "  @keyframes spin {\n",
              "    0% {\n",
              "      border-color: transparent;\n",
              "      border-bottom-color: var(--fill-color);\n",
              "      border-left-color: var(--fill-color);\n",
              "    }\n",
              "    20% {\n",
              "      border-color: transparent;\n",
              "      border-left-color: var(--fill-color);\n",
              "      border-top-color: var(--fill-color);\n",
              "    }\n",
              "    30% {\n",
              "      border-color: transparent;\n",
              "      border-left-color: var(--fill-color);\n",
              "      border-top-color: var(--fill-color);\n",
              "      border-right-color: var(--fill-color);\n",
              "    }\n",
              "    40% {\n",
              "      border-color: transparent;\n",
              "      border-right-color: var(--fill-color);\n",
              "      border-top-color: var(--fill-color);\n",
              "    }\n",
              "    60% {\n",
              "      border-color: transparent;\n",
              "      border-right-color: var(--fill-color);\n",
              "    }\n",
              "    80% {\n",
              "      border-color: transparent;\n",
              "      border-right-color: var(--fill-color);\n",
              "      border-bottom-color: var(--fill-color);\n",
              "    }\n",
              "    90% {\n",
              "      border-color: transparent;\n",
              "      border-bottom-color: var(--fill-color);\n",
              "    }\n",
              "  }\n",
              "</style>\n",
              "\n",
              "  <script>\n",
              "    async function quickchart(key) {\n",
              "      const quickchartButtonEl =\n",
              "        document.querySelector('#' + key + ' button');\n",
              "      quickchartButtonEl.disabled = true;  // To prevent multiple clicks.\n",
              "      quickchartButtonEl.classList.add('colab-df-spinner');\n",
              "      try {\n",
              "        const charts = await google.colab.kernel.invokeFunction(\n",
              "            'suggestCharts', [key], {});\n",
              "      } catch (error) {\n",
              "        console.error('Error during call to suggestCharts:', error);\n",
              "      }\n",
              "      quickchartButtonEl.classList.remove('colab-df-spinner');\n",
              "      quickchartButtonEl.classList.add('colab-df-quickchart-complete');\n",
              "    }\n",
              "    (() => {\n",
              "      let quickchartButtonEl =\n",
              "        document.querySelector('#df-34bd0a94-2943-4389-aa55-3e926dfc25d5 button');\n",
              "      quickchartButtonEl.style.display =\n",
              "        google.colab.kernel.accessAllowed ? 'block' : 'none';\n",
              "    })();\n",
              "  </script>\n",
              "</div>\n",
              "\n",
              "    </div>\n",
              "  </div>\n"
            ],
            "application/vnd.google.colaboratory.intrinsic+json": {
              "type": "dataframe",
              "variable_name": "train_data"
            }
          },
          "metadata": {},
          "execution_count": 18
        }
      ]
    },
    {
      "cell_type": "code",
      "source": [
        "print(f\"Кол-во категорий товаров: {len(train_data.family.unique())}\")"
      ],
      "metadata": {
        "colab": {
          "base_uri": "https://localhost:8080/"
        },
        "id": "6iZgUG7RzfXV",
        "outputId": "bf465f2a-e098-4a1c-be07-a22f6599b767"
      },
      "execution_count": null,
      "outputs": [
        {
          "output_type": "stream",
          "name": "stdout",
          "text": [
            "Кол-во категорий товаров: 33\n"
          ]
        }
      ]
    },
    {
      "cell_type": "code",
      "source": [
        "print(f\"В трейне данные за {len(train_data.date.unique())} дней\")"
      ],
      "metadata": {
        "colab": {
          "base_uri": "https://localhost:8080/"
        },
        "id": "v3O9orumzkJb",
        "outputId": "98c3d2a1-fe36-4c08-be4d-adf05aeed3a5"
      },
      "execution_count": null,
      "outputs": [
        {
          "output_type": "stream",
          "name": "stdout",
          "text": [
            "В трейне данные за 1684 дней\n"
          ]
        }
      ]
    },
    {
      "cell_type": "code",
      "source": [
        "oil.plot.scatter(x='date', y='dcoilwtico')"
      ],
      "metadata": {
        "colab": {
          "base_uri": "https://localhost:8080/"
        },
        "id": "BXC-yYIdTV-W",
        "outputId": "f85471fe-fd3c-4279-d530-cd32e36ed23c"
      },
      "execution_count": null,
      "outputs": [
        {
          "output_type": "execute_result",
          "data": {
            "text/plain": [
              "<Axes: xlabel='date', ylabel='dcoilwtico'>"
            ]
          },
          "metadata": {},
          "execution_count": 21
        },
        {
          "output_type": "display_data",
          "data": {
            "text/plain": [
              "<Figure size 640x480 with 1 Axes>"
            ],
            "image/png": "[encoded data removed]"
          },
          "metadata": {}
        }
      ]
    },
    {
      "cell_type": "code",
      "source": [
        "def add_oil_prices(data, oil_data):\n",
        "    \"\"\"\n",
        "    Добавляет данные о ценах на нефть и их лаговые значения в выборку.\n",
        "\n",
        "    :param data: DataFrame, исходная выборка с колонкой 'date'.\n",
        "    :param oil_data: DataFrame, данные о ценах на нефть с колонками 'date' и 'dcoilwtico'.\n",
        "    :return: DataFrame с добавленными колонками 'oil_price', 'oil_price_lag_7' и 'oil_price_lag_30'.\n",
        "    \"\"\"\n",
        "    oil_data = oil_data.rename(columns={'dcoilwtico': 'oil_price'})\n",
        "    oil_data['date'] = pd.to_datetime(oil_data['date'])\n",
        "    data['date'] = pd.to_datetime(data['date'])\n",
        "\n",
        "    data = pd.merge(data, oil_data, on='date', how='left')\n",
        "\n",
        "    data['oil_price'] = data['oil_price'].ffill()\n",
        "\n",
        "    data['oil_price_lag_7'] = data['oil_price'].shift(7)\n",
        "    data['oil_price_lag_30'] = data['oil_price'].shift(30)\n",
        "\n",
        "    data['oil_price_lag_7'] = data['oil_price_lag_7'].bfill()\n",
        "    data['oil_price_lag_30'] = data['oil_price_lag_30'].bfill()\n",
        "\n",
        "    return data"
      ],
      "metadata": {
        "id": "N0Nle3-hSNhn"
      },
      "execution_count": null,
      "outputs": []
    },
    {
      "cell_type": "code",
      "source": [
        "def add_store_features(data, stores_data):\n",
        "    \"\"\"\n",
        "    Добавляет данные о магазинах в выборку.\n",
        "\n",
        "    :param data: DataFrame, исходная выборка с колонкой 'store_nbr'.\n",
        "    :param stores_data: DataFrame, данные о магазинах с колонками 'store_nbr', 'city', 'state', 'type', 'cluster'.\n",
        "    :return: DataFrame с добавленными фичами из stores_data.\n",
        "    \"\"\"\n",
        "    data = pd.merge(data, stores_data, on='store_nbr', how='left')\n",
        "    return data"
      ],
      "metadata": {
        "id": "bKGMWUJvVRjz"
      },
      "execution_count": null,
      "outputs": []
    },
    {
      "cell_type": "code",
      "source": [
        "def add_holiday_features(data, holidays_data):\n",
        "    \"\"\"\n",
        "    Добавляет данные о праздниках в выборку, учитывая переносы.\n",
        "\n",
        "    :param data: DataFrame, исходная выборка с колонкой 'date'.\n",
        "    :param holidays_data: DataFrame, данные о праздниках с колонками 'date', 'type', 'description', 'transferred', и другими.\n",
        "    :return: DataFrame с добавленными фичами о праздниках.\n",
        "    \"\"\"\n",
        "    data['date'] = pd.to_datetime(data['date'])\n",
        "    holidays_data['date'] = pd.to_datetime(holidays_data['date'])\n",
        "\n",
        "    holidays_data['actual_holiday_date'] = holidays_data['date']\n",
        "\n",
        "    transferred_holidays = holidays_data[holidays_data['transferred'] == 'Transfer']\n",
        "    for _, row in transferred_holidays.iterrows():\n",
        "        original_holiday = holidays_data[\n",
        "            (holidays_data['description'] == row['description'].replace(\"Traslado \", \"\")) &\n",
        "            (holidays_data['transferred'] == 'Holiday')\n",
        "        ]\n",
        "        if not original_holiday.empty:\n",
        "            holidays_data.loc[holidays_data['date'] == row['date'], 'actual_holiday_date'] = original_holiday.iloc[0]['date']\n",
        "\n",
        "    holidays_data = holidays_data[holidays_data['transferred'] != 'Transfer']\n",
        "\n",
        "    holidays_data = holidays_data[['actual_holiday_date', 'locale', 'locale_name', 'description']].rename(\n",
        "        columns={'actual_holiday_date': 'date'}\n",
        "    )\n",
        "    data = pd.merge(data, holidays_data, on='date', how='left')\n",
        "\n",
        "    data['is_holiday'] = data['type'].notnull().astype(int)\n",
        "    data['holiday_type'] = data['type'].fillna('None')\n",
        "    data['holiday_description'] = data['description'].fillna('None')\n",
        "\n",
        "    return data"
      ],
      "metadata": {
        "id": "wcnOY8wiXaZj"
      },
      "execution_count": null,
      "outputs": []
    },
    {
      "cell_type": "code",
      "source": [
        "def fill_holiday_features(data):\n",
        "    \"\"\"\n",
        "    Обрабатывает и исправляет значения в фичах, добавленных из данных о праздниках.\n",
        "    Если дата не является праздничной (определяется по пропускам в колонке 'locale'),\n",
        "    корректирует значения фич:\n",
        "    - 'holiday_type' устанавливается в 'NO_HOLIDAY'\n",
        "    - 'is_holiday' устанавливается в 0\n",
        "    - Строковые фичи ('locale', 'locale_name', 'description', 'holiday_description') заполняются пустыми строками.\n",
        "\n",
        "    :param data: DataFrame с колонками 'locale', 'locale_name', 'description',\n",
        "                 'is_holiday', 'holiday_type', 'holiday_description'.\n",
        "    :return: DataFrame с исправленными значениями.\n",
        "    \"\"\"\n",
        "    non_holiday_condition = data['locale'].isna()\n",
        "\n",
        "    data.loc[non_holiday_condition, 'locale'] = ''\n",
        "    data.loc[non_holiday_condition, 'locale_name'] = ''\n",
        "    data.loc[non_holiday_condition, 'description'] = ''\n",
        "    data.loc[non_holiday_condition, 'holiday_description'] = ''\n",
        "    data.loc[non_holiday_condition, 'holiday_type'] = 'NO_HOLIDAY'\n",
        "    data.loc[non_holiday_condition, 'is_holiday'] = 0\n",
        "\n",
        "    return data"
      ],
      "metadata": {
        "id": "itFnPoUqau5U"
      },
      "execution_count": null,
      "outputs": []
    },
    {
      "cell_type": "code",
      "source": [
        "def encode_categorical_features(data, categorical_columns):\n",
        "    \"\"\"\n",
        "    Кодирует указанные категориальные фичи с помощью OrdinalEncoder.\n",
        "\n",
        "    :param data: DataFrame, исходная выборка с категориальными признаками.\n",
        "    :param categorical_columns: Список строк, содержащий имена категориальных колонок, которые нужно закодировать.\n",
        "    :return: DataFrame с закодированными категориальными признаками.\n",
        "    \"\"\"\n",
        "    encoder = OrdinalEncoder()\n",
        "    data[categorical_columns] = encoder.fit_transform(data[categorical_columns])\n",
        "    return data"
      ],
      "metadata": {
        "id": "ElDt2d8dbzhK"
      },
      "execution_count": null,
      "outputs": []
    },
    {
      "cell_type": "code",
      "source": [
        "categorical_columns=['family', 'city', 'state', 'type', 'locale', 'locale_name', 'holiday_type']"
      ],
      "metadata": {
        "id": "_Il8JgjwFTp7"
      },
      "execution_count": null,
      "outputs": []
    },
    {
      "cell_type": "code",
      "source": [
        "def fullFE(data, categorical_columns):\n",
        "  global oil, stores, holidays_events\n",
        "\n",
        "  new_data = data.copy()\n",
        "\n",
        "  new_data = add_oil_prices(new_data, oil)\n",
        "  new_data = add_store_features(new_data, stores)\n",
        "  new_data = add_holiday_features(new_data, holidays_events)\n",
        "  new_data = fill_holiday_features(new_data)\n",
        "  new_data = new_data.drop(columns=['description'])\n",
        "  new_data = encode_categorical_features(new_data, categorical_columns=categorical_columns)\n",
        "\n",
        "  return new_data"
      ],
      "metadata": {
        "id": "6E8jgxEwEkod"
      },
      "execution_count": null,
      "outputs": []
    },
    {
      "cell_type": "code",
      "source": [
        "Xy_train = fullFE(train_data, categorical_columns)"
      ],
      "metadata": {
        "id": "zd1XVa4UFhoS"
      },
      "execution_count": null,
      "outputs": []
    },
    {
      "cell_type": "code",
      "source": [
        "X_test = fullFE(test_data, categorical_columns)"
      ],
      "metadata": {
        "id": "qJgZfyezH6g1"
      },
      "execution_count": null,
      "outputs": []
    },
    {
      "cell_type": "markdown",
      "source": [
        "# Обучение"
      ],
      "metadata": {
        "id": "eCFZ7unSuBVH"
      }
    },
    {
      "cell_type": "code",
      "source": [
        "def rmsle(y_true, y_pred):\n",
        "    y_true = np.maximum(y_true, 0)\n",
        "    y_pred = np.maximum(y_pred, 0)\n",
        "    return np.sqrt(mean_squared_log_error(y_true, y_pred))\n",
        "\n",
        "def rmse(y_true, y_pred):\n",
        "    y_true = np.maximum(y_true, 0)\n",
        "    y_pred = np.maximum(y_pred, 0)\n",
        "    return np.sqrt(root_mean_squared_error(y_true, y_pred))"
      ],
      "metadata": {
        "id": "OLEVPe4iuEkV"
      },
      "execution_count": null,
      "outputs": []
    },
    {
      "cell_type": "code",
      "source": [
        "Xy_train = Xy_train.drop(columns=['holiday_description'])"
      ],
      "metadata": {
        "id": "Ft2FJL2GWaHx"
      },
      "execution_count": null,
      "outputs": []
    },
    {
      "cell_type": "code",
      "source": [
        "grouped = Xy_train.groupby(['store_nbr', 'family'])\n",
        "\n",
        "train_rmsles = []\n",
        "train_rmses = []\n",
        "\n",
        "test_rmsles = []\n",
        "test_rmses =[]"
      ],
      "metadata": {
        "collapsed": true,
        "id": "kuDupKk76I5I"
      },
      "execution_count": null,
      "outputs": []
    },
    {
      "cell_type": "code",
      "source": [
        "for (store, family), group in tqdm(grouped):\n",
        "    duplicates = group[group.duplicated(subset='date', keep=False)]\n",
        "\n",
        "    if not duplicates.empty:\n",
        "        print(f\"Дублирующиеся строки для store_nbr={store}, family={family}:\")\n",
        "        print(duplicates)\n",
        "        print(\"-\" * 50)\n",
        "    break"
      ],
      "metadata": {
        "colab": {
          "base_uri": "https://localhost:8080/"
        },
        "id": "DFTfTw_VfrWY",
        "outputId": "1cb27374-d54e-486f-9074-618e5450e63e",
        "collapsed": true
      },
      "execution_count": null,
      "outputs": [
        {
          "output_type": "stream",
          "name": "stderr",
          "text": [
            "  0%|          | 0/1782 [00:00<?, ?it/s]"
          ]
        },
        {
          "output_type": "stream",
          "name": "stdout",
          "text": [
            "Дублирующиеся строки для store_nbr=1, family=0.0:\n",
            "              id       date  store_nbr  family  sales  onpromotion  \\\n",
            "233442    233442 2013-05-12          1     0.0    1.0            0   \n",
            "233443    233442 2013-05-12          1     0.0    1.0            0   \n",
            "313632    311850 2013-06-25          1     0.0    2.0            0   \n",
            "313633    311850 2013-06-25          1     0.0    2.0            0   \n",
            "313634    311850 2013-06-25          1     0.0    2.0            0   \n",
            "331452    326106 2013-07-03          1     0.0    1.0            0   \n",
            "331453    326106 2013-07-03          1     0.0    1.0            0   \n",
            "639738    632610 2013-12-22          1     0.0    0.0            0   \n",
            "639739    632610 2013-12-22          1     0.0    0.0            0   \n",
            "969408    960498 2014-06-25          1     0.0    1.0            0   \n",
            "969409    960498 2014-06-25          1     0.0    1.0            0   \n",
            "969410    960498 2014-06-25          1     0.0    1.0            0   \n",
            "969411    960498 2014-06-25          1     0.0    1.0            0   \n",
            "989010    974754 2014-07-03          1     0.0    4.0            0   \n",
            "989011    974754 2014-07-03          1     0.0    4.0            0   \n",
            "1297296  1281258 2014-12-22          1     0.0    9.0            0   \n",
            "1297297  1281258 2014-12-22          1     0.0    9.0            0   \n",
            "1304424  1286604 2014-12-26          1     0.0    1.0            0   \n",
            "1304425  1286604 2014-12-26          1     0.0    1.0            0   \n",
            "1628748  1609146 2015-06-25          1     0.0    2.0            0   \n",
            "1628749  1609146 2015-06-25          1     0.0    2.0            0   \n",
            "1628750  1609146 2015-06-25          1     0.0    2.0            0   \n",
            "1646568  1623402 2015-07-03          1     0.0    6.0            0   \n",
            "1646569  1623402 2015-07-03          1     0.0    6.0            0   \n",
            "1954854  1929906 2015-12-22          1     0.0    9.0            0   \n",
            "1954855  1929906 2015-12-22          1     0.0    9.0            0   \n",
            "2170476  2143746 2016-04-21          1     0.0    4.0            0   \n",
            "2170477  2143746 2016-04-21          1     0.0    4.0            0   \n",
            "2190078  2161566 2016-05-01          1     0.0    4.0            0   \n",
            "2190079  2161566 2016-05-01          1     0.0    4.0            0   \n",
            "2202552  2172258 2016-05-07          1     0.0    0.0            0   \n",
            "2202553  2172258 2016-05-07          1     0.0    0.0            0   \n",
            "2206116  2174040 2016-05-08          1     0.0    5.0            0   \n",
            "2206117  2174040 2016-05-08          1     0.0    5.0            0   \n",
            "2215026  2181168 2016-05-12          1     0.0    3.0            0   \n",
            "2215027  2181168 2016-05-12          1     0.0    3.0            0   \n",
            "2295216  2259576 2016-06-25          1     0.0    5.0            0   \n",
            "2295217  2259576 2016-06-25          1     0.0    5.0            0   \n",
            "2295218  2259576 2016-06-25          1     0.0    5.0            0   \n",
            "2313036  2273832 2016-07-03          1     0.0    0.0            0   \n",
            "2313037  2273832 2016-07-03          1     0.0    0.0            0   \n",
            "2352240  2311254 2016-07-24          1     0.0   10.0            0   \n",
            "2352241  2311254 2016-07-24          1     0.0   10.0            0   \n",
            "2551824  2509056 2016-11-12          1     0.0    4.0            0   \n",
            "2551825  2509056 2016-11-12          1     0.0    4.0            0   \n",
            "2624886  2580336 2016-12-22          1     0.0    7.0            0   \n",
            "2624887  2580336 2016-12-22          1     0.0    7.0            0   \n",
            "2826252  2779920 2017-04-14          1     0.0    1.0            0   \n",
            "2826253  2779920 2017-04-14          1     0.0    1.0            0   \n",
            "2956338  2908224 2017-06-25          1     0.0    4.0            0   \n",
            "2956339  2908224 2017-06-25          1     0.0    4.0            0   \n",
            "2956340  2908224 2017-06-25          1     0.0    4.0            0   \n",
            "2974158  2922480 2017-07-03          1     0.0    0.0            0   \n",
            "2974159  2922480 2017-07-03          1     0.0    0.0            0   \n",
            "\n",
            "          oil_price  oil_price_lag_7  oil_price_lag_30  city  state  type  \\\n",
            "233442    96.040001        96.040001         96.040001  18.0   12.0   3.0   \n",
            "233443    96.040001        96.040001         96.040001  18.0   12.0   3.0   \n",
            "313632    95.320000        95.180000         95.180000  18.0   12.0   3.0   \n",
            "313633    95.320000        95.180000         95.180000  18.0   12.0   3.0   \n",
            "313634    95.320000        95.180000         95.180000  18.0   12.0   3.0   \n",
            "331452   101.239998        99.599998         99.599998  18.0   12.0   3.0   \n",
            "331453   101.239998        99.599998         99.599998  18.0   12.0   3.0   \n",
            "639738    99.320000        99.320000         99.320000  18.0   12.0   3.0   \n",
            "639739    99.320000        99.320000         99.320000  18.0   12.0   3.0   \n",
            "969408   106.500000       106.029999        106.029999  18.0   12.0   3.0   \n",
            "969409   106.500000       106.029999        106.029999  18.0   12.0   3.0   \n",
            "969410   106.500000       106.029999        106.029999  18.0   12.0   3.0   \n",
            "969411   106.500000       106.029999        106.029999  18.0   12.0   3.0   \n",
            "989010   104.059998       104.480003        104.480003  18.0   12.0   3.0   \n",
            "989011   104.059998       104.480003        104.480003  18.0   12.0   3.0   \n",
            "1297296   55.259998        56.520000         56.520000  18.0   12.0   3.0   \n",
            "1297297   55.259998        56.520000         56.520000  18.0   12.0   3.0   \n",
            "1304424   54.730000        55.840000         55.840000  18.0   12.0   3.0   \n",
            "1304425   54.730000        55.840000         55.840000  18.0   12.0   3.0   \n",
            "1628748   59.700001        60.270000         60.270000  18.0   12.0   3.0   \n",
            "1628749   59.700001        60.270000         60.270000  18.0   12.0   3.0   \n",
            "1628750   59.700001        60.270000         60.270000  18.0   12.0   3.0   \n",
            "1646568   54.730000        56.930000         56.930000  18.0   12.0   3.0   \n",
            "1646569   54.730000        56.930000         56.930000  18.0   12.0   3.0   \n",
            "1954854   36.139999        34.740002         34.740002  18.0   12.0   3.0   \n",
            "1954855   36.139999        34.740002         34.740002  18.0   12.0   3.0   \n",
            "2170476   43.180000        42.630001         42.630001  18.0   12.0   3.0   \n",
            "2170477   43.180000        42.630001         42.630001  18.0   12.0   3.0   \n",
            "2190078   45.919998        45.919998         45.919998  18.0   12.0   3.0   \n",
            "2190079   45.919998        45.919998         45.919998  18.0   12.0   3.0   \n",
            "2202552   44.660000        44.660000         44.660000  18.0   12.0   3.0   \n",
            "2202553   44.660000        44.660000         44.660000  18.0   12.0   3.0   \n",
            "2206116   44.660000        44.660000         44.660000  18.0   12.0   3.0   \n",
            "2206117   44.660000        44.660000         44.660000  18.0   12.0   3.0   \n",
            "2215026   46.700001        46.230000         46.230000  18.0   12.0   3.0   \n",
            "2215027   46.700001        46.230000         46.230000  18.0   12.0   3.0   \n",
            "2295216   47.639999        47.639999         47.639999  18.0   12.0   3.0   \n",
            "2295217   47.639999        47.639999         47.639999  18.0   12.0   3.0   \n",
            "2295218   47.639999        47.639999         47.639999  18.0   12.0   3.0   \n",
            "2313036   48.990002        48.990002         48.990002  18.0   12.0   3.0   \n",
            "2313037   48.990002        48.990002         48.990002  18.0   12.0   3.0   \n",
            "2352240   44.189999        44.189999         44.189999  18.0   12.0   3.0   \n",
            "2352241   44.189999        44.189999         44.189999  18.0   12.0   3.0   \n",
            "2551824   43.990000        43.990000         43.990000  18.0   12.0   3.0   \n",
            "2551825   43.990000        43.990000         43.990000  18.0   12.0   3.0   \n",
            "2624886   52.950001        52.490002         52.490002  18.0   12.0   3.0   \n",
            "2624887   52.950001        52.490002         52.490002  18.0   12.0   3.0   \n",
            "2826252   52.915001        53.180000         53.180000  18.0   12.0   3.0   \n",
            "2826253   52.915001        53.180000         53.180000  18.0   12.0   3.0   \n",
            "2956338   43.009998        43.009998         43.009998  18.0   12.0   3.0   \n",
            "2956339   43.009998        43.009998         43.009998  18.0   12.0   3.0   \n",
            "2956340   43.009998        43.009998         43.009998  18.0   12.0   3.0   \n",
            "2974158   47.070000        46.040001         46.040001  18.0   12.0   3.0   \n",
            "2974159   47.070000        46.040001         46.040001  18.0   12.0   3.0   \n",
            "\n",
            "         cluster  locale  locale_name  is_holiday  holiday_type  \n",
            "233442        13     1.0         17.0           1           3.0  \n",
            "233443        13     2.0          5.0           1           3.0  \n",
            "313632        13     3.0         11.0           1           3.0  \n",
            "313633        13     1.0         15.0           1           3.0  \n",
            "313634        13     1.0         12.0           1           3.0  \n",
            "331452        13     1.0          6.0           1           3.0  \n",
            "331453        13     1.0         23.0           1           3.0  \n",
            "639738        13     2.0          5.0           1           3.0  \n",
            "639739        13     1.0         21.0           1           3.0  \n",
            "969408        13     1.0         12.0           1           3.0  \n",
            "969409        13     1.0         15.0           1           3.0  \n",
            "969410        13     3.0         11.0           1           3.0  \n",
            "969411        13     2.0          5.0           1           3.0  \n",
            "989010        13     1.0          6.0           1           3.0  \n",
            "989011        13     1.0         23.0           1           3.0  \n",
            "1297296       13     1.0         21.0           1           3.0  \n",
            "1297297       13     2.0          5.0           1           3.0  \n",
            "1304424       13     2.0          5.0           1           3.0  \n",
            "1304425       13     2.0          5.0           1           3.0  \n",
            "1628748       13     1.0         15.0           1           3.0  \n",
            "1628749       13     3.0         11.0           1           3.0  \n",
            "1628750       13     1.0         12.0           1           3.0  \n",
            "1646568       13     1.0          6.0           1           3.0  \n",
            "1646569       13     1.0         23.0           1           3.0  \n",
            "1954854       13     2.0          5.0           1           3.0  \n",
            "1954855       13     1.0         21.0           1           3.0  \n",
            "2170476       13     1.0         20.0           1           3.0  \n",
            "2170477       13     2.0          5.0           1           3.0  \n",
            "2190078       13     2.0          5.0           1           3.0  \n",
            "2190079       13     2.0          5.0           1           3.0  \n",
            "2202552       13     2.0          5.0           1           3.0  \n",
            "2202553       13     2.0          5.0           1           3.0  \n",
            "2206116       13     2.0          5.0           1           3.0  \n",
            "2206117       13     2.0          5.0           1           3.0  \n",
            "2215026       13     1.0         17.0           1           3.0  \n",
            "2215027       13     2.0          5.0           1           3.0  \n",
            "2295216       13     1.0         15.0           1           3.0  \n",
            "2295217       13     3.0         11.0           1           3.0  \n",
            "2295218       13     1.0         12.0           1           3.0  \n",
            "2313036       13     1.0          6.0           1           3.0  \n",
            "2313037       13     1.0         23.0           1           3.0  \n",
            "2352240       13     1.0          9.0           1           3.0  \n",
            "2352241       13     1.0          9.0           1           3.0  \n",
            "2551824       13     1.0          1.0           1           3.0  \n",
            "2551825       13     2.0          5.0           1           3.0  \n",
            "2624886       13     2.0          5.0           1           3.0  \n",
            "2624887       13     1.0         21.0           1           3.0  \n",
            "2826252       13     1.0         13.0           1           3.0  \n",
            "2826253       13     2.0          5.0           1           3.0  \n",
            "2956338       13     3.0         11.0           1           3.0  \n",
            "2956339       13     1.0         12.0           1           3.0  \n",
            "2956340       13     1.0         15.0           1           3.0  \n",
            "2974158       13     1.0          6.0           1           3.0  \n",
            "2974159       13     1.0         23.0           1           3.0  \n",
            "--------------------------------------------------\n"
          ]
        },
        {
          "output_type": "stream",
          "name": "stderr",
          "text": [
            "\n"
          ]
        }
      ]
    },
    {
      "cell_type": "markdown",
      "source": [
        "Дубликаты возникли из-за разных локальных праздников в разных местах в один день. Пока просто возьмём первое значение"
      ],
      "metadata": {
        "id": "Mc1MozV4gbgc"
      }
    },
    {
      "cell_type": "code",
      "source": [
        "for (store, family), group in tqdm(grouped):\n",
        "    group = group.drop_duplicates(subset='date', keep='first') # пока просто удалим дублирующие строки\n",
        "\n",
        "    group = group.set_index('date').asfreq('D')\n",
        "    group['sales'] = group['sales'].astype(float).fillna(0)\n",
        "    sales = group['sales']\n",
        "\n",
        "    train, test = train_test_split(sales, test_size=0.2, shuffle=False)\n",
        "\n",
        "    model = ARIMA(train, order=(1, 0, 0))\n",
        "    model_fit = model.fit()\n",
        "\n",
        "    train_pred = model_fit.predict(start=train.index[0], end=train.index[-1])\n",
        "    train_rmsle = rmsle(train, train_pred)\n",
        "    train_rmse = rmse(train, train_pred)\n",
        "    train_rmsles.append(train_rmsle)\n",
        "    train_rmses.append(train_rmse)\n",
        "\n",
        "    test_pred = model_fit.predict(start=test.index[0], end=test.index[-1])\n",
        "    test_rmsle = rmsle(test, test_pred)\n",
        "    test_rmse = rmse(test, test_pred)\n",
        "    test_rmsles.append(test_rmsle)\n",
        "    test_rmses.append(test_rmse)"
      ],
      "metadata": {
        "colab": {
          "base_uri": "https://localhost:8080/"
        },
        "id": "mPgQ0Qu-foOR",
        "outputId": "3ea356be-6fb7-4a1a-ec18-25a81962a39b"
      },
      "execution_count": null,
      "outputs": [
        {
          "output_type": "stream",
          "name": "stderr",
          "text": [
            " 24%|██▍       | 429/1782 [01:37<03:27,  6.53it/s]/usr/local/lib/python3.10/dist-packages/statsmodels/base/model.py:607: ConvergenceWarning: Maximum Likelihood optimization failed to converge. Check mle_retvals\n",
            "  warnings.warn(\"Maximum Likelihood optimization failed to \"\n",
            "100%|██████████| 1782/1782 [05:54<00:00,  5.03it/s]\n"
          ]
        }
      ]
    },
    {
      "cell_type": "code",
      "source": [
        "mean_train_rmsle = np.mean(train_rmsles)\n",
        "mean_train_rmse = np.mean(train_rmses)\n",
        "\n",
        "mean_test_rmsle = np.mean(test_rmsles)\n",
        "mean_test_rmse = np.mean(test_rmses)\n",
        "\n",
        "print(f\"Mean RMSLE for train: {mean_train_rmsle:.5f}\")\n",
        "print(f\"Mean RMSE for train: {mean_train_rmse:.5f}\")\n",
        "\n",
        "print(f\"Mean RMSLE for test: {mean_test_rmsle:.5f}\")\n",
        "print(f\"Mean RMSE for test: {mean_test_rmse:.5f}\")"
      ],
      "metadata": {
        "colab": {
          "base_uri": "https://localhost:8080/"
        },
        "id": "SkVbRN3J6eQz",
        "outputId": "f8c3ab77-3624-4a03-c0b7-98aa251dc031"
      },
      "execution_count": null,
      "outputs": [
        {
          "output_type": "stream",
          "name": "stdout",
          "text": [
            "Mean RMSLE for train: 0.84343\n",
            "Mean RMSE for train: 7.28777\n",
            "Mean RMSLE for test: 0.77576\n",
            "Mean RMSE for test: 9.74058\n"
          ]
        }
      ]
    },
    {
      "cell_type": "markdown",
      "source": [
        "# Предикт"
      ],
      "metadata": {
        "id": "ddUwIivOuCpq"
      }
    },
    {
      "cell_type": "code",
      "source": [
        "predictions = sample_submission.copy()\n",
        "\n",
        "grouped_train = Xy_train.groupby(['store_nbr', 'family'])\n",
        "grouped_test = X_test.groupby(['store_nbr', 'family'])\n",
        "\n",
        "for (store, family), train_group in tqdm(grouped_train):\n",
        "    train_group = train_group.drop_duplicates(subset='date', keep='first')\n",
        "    train_group = train_group.set_index('date').asfreq('D')\n",
        "    train_group['sales'] = train_group['sales'].astype(float).fillna(0)\n",
        "\n",
        "    if (store, family) in grouped_test.groups:\n",
        "        test_group = grouped_test.get_group((store, family))\n",
        "        test_group = test_group.set_index('date').asfreq('D')\n",
        "        test_index = test_group.index\n",
        "\n",
        "        sales = train_group['sales']\n",
        "        model = ARIMA(sales, order=(0, 0, 2))\n",
        "        model_fit = model.fit()\n",
        "\n",
        "        forecast = model_fit.predict(start=test_index[0], end=test_index[-1])\n",
        "\n",
        "        test_ids = test_group['id']\n",
        "        predictions.loc[predictions['id'].isin(test_ids), 'sales'] = forecast.values"
      ],
      "metadata": {
        "colab": {
          "base_uri": "https://localhost:8080/"
        },
        "id": "Or-I4GRtjHTc",
        "outputId": "3a1444fe-e9da-431a-ad10-4fdbc0d5546a"
      },
      "execution_count": null,
      "outputs": [
        {
          "output_type": "stream",
          "name": "stderr",
          "text": [
            " 37%|███▋      | 658/1782 [09:11<21:40,  1.16s/it]/usr/local/lib/python3.10/dist-packages/statsmodels/tsa/statespace/sarimax.py:978: UserWarning: Non-invertible starting MA parameters found. Using zeros as starting parameters.\n",
            "  warn('Non-invertible starting MA parameters found.'\n",
            "100%|██████████| 1782/1782 [25:51<00:00,  1.15it/s]\n"
          ]
        }
      ]
    },
    {
      "cell_type": "code",
      "source": [
        "predictions.shape"
      ],
      "metadata": {
        "colab": {
          "base_uri": "https://localhost:8080/"
        },
        "id": "p9kecZHhkwYR",
        "outputId": "ff8d6185-8c37-492c-f094-ec75eb121543"
      },
      "execution_count": null,
      "outputs": [
        {
          "output_type": "execute_result",
          "data": {
            "text/plain": [
              "(28512, 2)"
            ]
          },
          "metadata": {},
          "execution_count": 45
        }
      ]
    },
    {
      "cell_type": "code",
      "source": [
        "predictions.to_csv('predictions.csv', index=False)"
      ],
      "metadata": {
        "id": "npr9KBn0jUhx"
      },
      "execution_count": null,
      "outputs": []
    },
    {
      "cell_type": "markdown",
      "source": [
        "Score:"
      ],
      "metadata": {
        "id": "LP4a3DPddQX_"
      }
    },
    {
      "cell_type": "markdown",
      "source": [
        "![image.png](data:image/png;base64,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)"
      ],
      "metadata": {
        "id": "FhhyO8k7dtPT"
      }
    }
  ]
}